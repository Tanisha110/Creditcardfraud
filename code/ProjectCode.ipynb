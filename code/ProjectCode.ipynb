{
  "nbformat": 4,
  "nbformat_minor": 0,
  "metadata": {
    "colab": {
      "provenance": [],
      "gpuType": "T4",
      "include_colab_link": true
    },
    "kernelspec": {
      "name": "python3",
      "display_name": "Python 3"
    },
    "language_info": {
      "name": "python"
    },
    "accelerator": "GPU"
  },
  "cells": [
    {
      "cell_type": "markdown",
      "metadata": {
        "id": "view-in-github",
        "colab_type": "text"
      },
      "source": [
        "<a href=\"https://colab.research.google.com/github/Tanisha110/Creditcardfraud/blob/main/code/ProjectCode.ipynb\" target=\"_parent\"><img src=\"https://colab.research.google.com/assets/colab-badge.svg\" alt=\"Open In Colab\"/></a>"
      ]
    },
    {
      "cell_type": "code",
      "execution_count": 1,
      "metadata": {
        "id": "e5_8OP_hzZoA"
      },
      "outputs": [],
      "source": [
        "import pandas as pd #panel data that helps manipulate data\n",
        "import numpy as np\n",
        "from sklearn.preprocessing import StandardScaler#to scale and normalise data"
      ]
    },
    {
      "cell_type": "code",
      "source": [
        "#loading the original dataset\n",
        "original_data=pd.read_csv('/content/spotify_tracks (1).csv')"
      ],
      "metadata": {
        "id": "I4-6WRwmzh_z"
      },
      "execution_count": 2,
      "outputs": []
    },
    {
      "cell_type": "code",
      "source": [
        "#getting data info to detect any null or duplicate values\n",
        "original_data.info()"
      ],
      "metadata": {
        "colab": {
          "base_uri": "https://localhost:8080/"
        },
        "id": "uqZGm6uPzuXD",
        "outputId": "f527b4d9-a530-4f86-cc8f-59433de6a587"
      },
      "execution_count": 3,
      "outputs": [
        {
          "output_type": "stream",
          "name": "stdout",
          "text": [
            "<class 'pandas.core.frame.DataFrame'>\n",
            "RangeIndex: 22629 entries, 0 to 22628\n",
            "Data columns (total 22 columns):\n",
            " #   Column            Non-Null Count  Dtype  \n",
            "---  ------            --------------  -----  \n",
            " 0   track_id          22629 non-null  object \n",
            " 1   track_name        22628 non-null  object \n",
            " 2   artist_name       22628 non-null  object \n",
            " 3   year              22628 non-null  float64\n",
            " 4   popularity        22628 non-null  float64\n",
            " 5   artwork_url       22628 non-null  object \n",
            " 6   album_name        22628 non-null  object \n",
            " 7   acousticness      22628 non-null  float64\n",
            " 8   danceability      22628 non-null  float64\n",
            " 9   duration_ms       22628 non-null  float64\n",
            " 10  energy            22628 non-null  float64\n",
            " 11  instrumentalness  22628 non-null  float64\n",
            " 12  key               22628 non-null  float64\n",
            " 13  liveness          22628 non-null  float64\n",
            " 14  loudness          22628 non-null  float64\n",
            " 15  mode              22628 non-null  float64\n",
            " 16  speechiness       22628 non-null  float64\n",
            " 17  tempo             22628 non-null  float64\n",
            " 18  time_signature    22628 non-null  float64\n",
            " 19  valence           22628 non-null  float64\n",
            " 20  track_url         22628 non-null  object \n",
            " 21  language          22628 non-null  object \n",
            "dtypes: float64(15), object(7)\n",
            "memory usage: 3.8+ MB\n"
          ]
        }
      ]
    },
    {
      "cell_type": "code",
      "source": [
        "#Removing Telugu and Malayalam songs since very low in number\n",
        "original_data = original_data[original_data['language'] != 'Telugu'].reset_index(drop=True)\n",
        "original_data = original_data[original_data['language'] != 'Malayalam'].reset_index(drop=True)"
      ],
      "metadata": {
        "id": "PMZ1t9nXgDHs"
      },
      "execution_count": 4,
      "outputs": []
    },
    {
      "cell_type": "code",
      "source": [
        "#dropping any duplicate values\n",
        "original_data.drop_duplicates()"
      ],
      "metadata": {
        "colab": {
          "base_uri": "https://localhost:8080/",
          "height": 756
        },
        "collapsed": true,
        "id": "TZC8AiS6zwO9",
        "outputId": "78b3f8e4-e0f3-48b9-b193-5b2585e3a070"
      },
      "execution_count": 5,
      "outputs": [
        {
          "output_type": "execute_result",
          "data": {
            "text/plain": [
              "                     track_id                                  track_name  \\\n",
              "0      2r0ROhr7pRN4MXDMT1fEmd                  Leo Das Entry (From \"Leo\")   \n",
              "1      4I38e6Dg52a2o2a8i5Q5PW                                AAO KILLELLE   \n",
              "2      59NoiRhnom3lTeRFaBzOev      Mayakiriye Sirikiriye - Orchestral EDM   \n",
              "3      5uUqRQd385pvLxC8JX3tXn    Scene Ah Scene Ah - Experimental EDM Mix   \n",
              "4      1KaBRg2xgNeCljmyxBH1mo  Gundellonaa X I Am A Disco Dancer - Mashup   \n",
              "...                       ...                                         ...   \n",
              "22128  0nrRP2bk19rLc0orkWPQk2                                  Wake Me Up   \n",
              "22129  4lhqb6JvbHId48OUJGwymk                                 Hey Brother   \n",
              "22130  4eDYMhIin1pSLIG96f1aD0                             Addicted To You   \n",
              "22131  52RK8UVEDgUAgpecOpTQM3                                 You Make Me   \n",
              "22132        4QRZirU4s1f30iDH                                         NaN   \n",
              "\n",
              "                                             artist_name    year  popularity  \\\n",
              "0                                    Anirudh Ravichander  2024.0        59.0   \n",
              "1      Anirudh Ravichander, Pravin Mani, Vaishali Sri...  2024.0        47.0   \n",
              "2               Anirudh Ravichander, Anivee, Alvin Bruno  2024.0        35.0   \n",
              "3      Anirudh Ravichander, Bharath Sankar, Kabilan, ...  2024.0        24.0   \n",
              "4      Anirudh Ravichander, Benny Dayal, Leon James, ...  2024.0        22.0   \n",
              "...                                                  ...     ...         ...   \n",
              "22128                                             Avicii  2013.0        87.0   \n",
              "22129                                             Avicii  2013.0        79.0   \n",
              "22130                                             Avicii  2013.0        76.0   \n",
              "22131                                             Avicii  2013.0        67.0   \n",
              "22132                                                NaN     NaN         NaN   \n",
              "\n",
              "                                             artwork_url  \\\n",
              "0      https://i.scdn.co/image/ab67616d0000b273ce9c65...   \n",
              "1      https://i.scdn.co/image/ab67616d0000b273be1b03...   \n",
              "2      https://i.scdn.co/image/ab67616d0000b27334a1dd...   \n",
              "3      https://i.scdn.co/image/ab67616d0000b27332e623...   \n",
              "4      https://i.scdn.co/image/ab67616d0000b2735a59b6...   \n",
              "...                                                  ...   \n",
              "22128  https://i.scdn.co/image/ab67616d0000b273e14f11...   \n",
              "22129  https://i.scdn.co/image/ab67616d0000b273e14f11...   \n",
              "22130  https://i.scdn.co/image/ab67616d0000b273e14f11...   \n",
              "22131  https://i.scdn.co/image/ab67616d0000b273e14f11...   \n",
              "22132                                                NaN   \n",
              "\n",
              "                                       album_name  acousticness  danceability  \\\n",
              "0                      Leo Das Entry (From \"Leo\")       0.02410         0.753   \n",
              "1                                    AAO KILLELLE       0.08510         0.780   \n",
              "2          Mayakiriye Sirikiriye (Orchestral EDM)       0.03110         0.457   \n",
              "3        Scene Ah Scene Ah (Experimental EDM Mix)       0.22700         0.718   \n",
              "4      Gundellonaa X I Am a Disco Dancer (Mashup)       0.01530         0.689   \n",
              "...                                           ...           ...           ...   \n",
              "22128                                        True       0.00380         0.532   \n",
              "22129                                        True       0.03090         0.545   \n",
              "22130                                        True       0.05050         0.569   \n",
              "22131                                        True       0.00247         0.586   \n",
              "22132                                         NaN           NaN           NaN   \n",
              "\n",
              "       duration_ms  ...   key  liveness  loudness  mode  speechiness    tempo  \\\n",
              "0          97297.0  ...   8.0    0.1000    -5.994   0.0       0.1030  110.997   \n",
              "1         207369.0  ...  10.0    0.0951    -5.674   0.0       0.0952  164.995   \n",
              "2          82551.0  ...   2.0    0.0831    -8.937   0.0       0.1530  169.996   \n",
              "3         115831.0  ...   7.0    0.1240   -11.104   1.0       0.4450  169.996   \n",
              "4         129621.0  ...   7.0    0.3450    -9.637   1.0       0.1580  128.961   \n",
              "...            ...  ...   ...       ...       ...   ...          ...      ...   \n",
              "22128     247427.0  ...   2.0    0.1610    -5.697   1.0       0.0523  124.080   \n",
              "22129     255093.0  ...   7.0    0.0828    -4.867   0.0       0.0436  125.014   \n",
              "22130     148387.0  ...   1.0    0.0860    -4.057   0.0       0.0457  128.031   \n",
              "22131     233347.0  ...   6.0    0.1520    -4.799   1.0       0.0390  124.990   \n",
              "22132          NaN  ...   NaN       NaN       NaN   NaN          NaN      NaN   \n",
              "\n",
              "       time_signature  valence  \\\n",
              "0                 4.0    0.459   \n",
              "1                 3.0    0.821   \n",
              "2                 4.0    0.598   \n",
              "3                 4.0    0.362   \n",
              "4                 4.0    0.593   \n",
              "...               ...      ...   \n",
              "22128             4.0    0.643   \n",
              "22129             4.0    0.458   \n",
              "22130             4.0    0.303   \n",
              "22131             4.0    0.496   \n",
              "22132             NaN      NaN   \n",
              "\n",
              "                                               track_url  language  \n",
              "0      https://open.spotify.com/track/2r0ROhr7pRN4MXD...     Tamil  \n",
              "1      https://open.spotify.com/track/4I38e6Dg52a2o2a...     Tamil  \n",
              "2      https://open.spotify.com/track/59NoiRhnom3lTeR...     Tamil  \n",
              "3      https://open.spotify.com/track/5uUqRQd385pvLxC...     Tamil  \n",
              "4      https://open.spotify.com/track/1KaBRg2xgNeCljm...     Tamil  \n",
              "...                                                  ...       ...  \n",
              "22128  https://open.spotify.com/track/0nrRP2bk19rLc0o...   English  \n",
              "22129  https://open.spotify.com/track/4lhqb6JvbHId48O...   English  \n",
              "22130  https://open.spotify.com/track/4eDYMhIin1pSLIG...   English  \n",
              "22131  https://open.spotify.com/track/52RK8UVEDgUAgpe...   English  \n",
              "22132                                                NaN       NaN  \n",
              "\n",
              "[22058 rows x 22 columns]"
            ],
            "text/html": [
              "\n",
              "  <div id=\"df-8ba6d38d-74bc-4899-aa77-ef95c65a9027\" class=\"colab-df-container\">\n",
              "    <div>\n",
              "<style scoped>\n",
              "    .dataframe tbody tr th:only-of-type {\n",
              "        vertical-align: middle;\n",
              "    }\n",
              "\n",
              "    .dataframe tbody tr th {\n",
              "        vertical-align: top;\n",
              "    }\n",
              "\n",
              "    .dataframe thead th {\n",
              "        text-align: right;\n",
              "    }\n",
              "</style>\n",
              "<table border=\"1\" class=\"dataframe\">\n",
              "  <thead>\n",
              "    <tr style=\"text-align: right;\">\n",
              "      <th></th>\n",
              "      <th>track_id</th>\n",
              "      <th>track_name</th>\n",
              "      <th>artist_name</th>\n",
              "      <th>year</th>\n",
              "      <th>popularity</th>\n",
              "      <th>artwork_url</th>\n",
              "      <th>album_name</th>\n",
              "      <th>acousticness</th>\n",
              "      <th>danceability</th>\n",
              "      <th>duration_ms</th>\n",
              "      <th>...</th>\n",
              "      <th>key</th>\n",
              "      <th>liveness</th>\n",
              "      <th>loudness</th>\n",
              "      <th>mode</th>\n",
              "      <th>speechiness</th>\n",
              "      <th>tempo</th>\n",
              "      <th>time_signature</th>\n",
              "      <th>valence</th>\n",
              "      <th>track_url</th>\n",
              "      <th>language</th>\n",
              "    </tr>\n",
              "  </thead>\n",
              "  <tbody>\n",
              "    <tr>\n",
              "      <th>0</th>\n",
              "      <td>2r0ROhr7pRN4MXDMT1fEmd</td>\n",
              "      <td>Leo Das Entry (From \"Leo\")</td>\n",
              "      <td>Anirudh Ravichander</td>\n",
              "      <td>2024.0</td>\n",
              "      <td>59.0</td>\n",
              "      <td>https://i.scdn.co/image/ab67616d0000b273ce9c65...</td>\n",
              "      <td>Leo Das Entry (From \"Leo\")</td>\n",
              "      <td>0.02410</td>\n",
              "      <td>0.753</td>\n",
              "      <td>97297.0</td>\n",
              "      <td>...</td>\n",
              "      <td>8.0</td>\n",
              "      <td>0.1000</td>\n",
              "      <td>-5.994</td>\n",
              "      <td>0.0</td>\n",
              "      <td>0.1030</td>\n",
              "      <td>110.997</td>\n",
              "      <td>4.0</td>\n",
              "      <td>0.459</td>\n",
              "      <td>https://open.spotify.com/track/2r0ROhr7pRN4MXD...</td>\n",
              "      <td>Tamil</td>\n",
              "    </tr>\n",
              "    <tr>\n",
              "      <th>1</th>\n",
              "      <td>4I38e6Dg52a2o2a8i5Q5PW</td>\n",
              "      <td>AAO KILLELLE</td>\n",
              "      <td>Anirudh Ravichander, Pravin Mani, Vaishali Sri...</td>\n",
              "      <td>2024.0</td>\n",
              "      <td>47.0</td>\n",
              "      <td>https://i.scdn.co/image/ab67616d0000b273be1b03...</td>\n",
              "      <td>AAO KILLELLE</td>\n",
              "      <td>0.08510</td>\n",
              "      <td>0.780</td>\n",
              "      <td>207369.0</td>\n",
              "      <td>...</td>\n",
              "      <td>10.0</td>\n",
              "      <td>0.0951</td>\n",
              "      <td>-5.674</td>\n",
              "      <td>0.0</td>\n",
              "      <td>0.0952</td>\n",
              "      <td>164.995</td>\n",
              "      <td>3.0</td>\n",
              "      <td>0.821</td>\n",
              "      <td>https://open.spotify.com/track/4I38e6Dg52a2o2a...</td>\n",
              "      <td>Tamil</td>\n",
              "    </tr>\n",
              "    <tr>\n",
              "      <th>2</th>\n",
              "      <td>59NoiRhnom3lTeRFaBzOev</td>\n",
              "      <td>Mayakiriye Sirikiriye - Orchestral EDM</td>\n",
              "      <td>Anirudh Ravichander, Anivee, Alvin Bruno</td>\n",
              "      <td>2024.0</td>\n",
              "      <td>35.0</td>\n",
              "      <td>https://i.scdn.co/image/ab67616d0000b27334a1dd...</td>\n",
              "      <td>Mayakiriye Sirikiriye (Orchestral EDM)</td>\n",
              "      <td>0.03110</td>\n",
              "      <td>0.457</td>\n",
              "      <td>82551.0</td>\n",
              "      <td>...</td>\n",
              "      <td>2.0</td>\n",
              "      <td>0.0831</td>\n",
              "      <td>-8.937</td>\n",
              "      <td>0.0</td>\n",
              "      <td>0.1530</td>\n",
              "      <td>169.996</td>\n",
              "      <td>4.0</td>\n",
              "      <td>0.598</td>\n",
              "      <td>https://open.spotify.com/track/59NoiRhnom3lTeR...</td>\n",
              "      <td>Tamil</td>\n",
              "    </tr>\n",
              "    <tr>\n",
              "      <th>3</th>\n",
              "      <td>5uUqRQd385pvLxC8JX3tXn</td>\n",
              "      <td>Scene Ah Scene Ah - Experimental EDM Mix</td>\n",
              "      <td>Anirudh Ravichander, Bharath Sankar, Kabilan, ...</td>\n",
              "      <td>2024.0</td>\n",
              "      <td>24.0</td>\n",
              "      <td>https://i.scdn.co/image/ab67616d0000b27332e623...</td>\n",
              "      <td>Scene Ah Scene Ah (Experimental EDM Mix)</td>\n",
              "      <td>0.22700</td>\n",
              "      <td>0.718</td>\n",
              "      <td>115831.0</td>\n",
              "      <td>...</td>\n",
              "      <td>7.0</td>\n",
              "      <td>0.1240</td>\n",
              "      <td>-11.104</td>\n",
              "      <td>1.0</td>\n",
              "      <td>0.4450</td>\n",
              "      <td>169.996</td>\n",
              "      <td>4.0</td>\n",
              "      <td>0.362</td>\n",
              "      <td>https://open.spotify.com/track/5uUqRQd385pvLxC...</td>\n",
              "      <td>Tamil</td>\n",
              "    </tr>\n",
              "    <tr>\n",
              "      <th>4</th>\n",
              "      <td>1KaBRg2xgNeCljmyxBH1mo</td>\n",
              "      <td>Gundellonaa X I Am A Disco Dancer - Mashup</td>\n",
              "      <td>Anirudh Ravichander, Benny Dayal, Leon James, ...</td>\n",
              "      <td>2024.0</td>\n",
              "      <td>22.0</td>\n",
              "      <td>https://i.scdn.co/image/ab67616d0000b2735a59b6...</td>\n",
              "      <td>Gundellonaa X I Am a Disco Dancer (Mashup)</td>\n",
              "      <td>0.01530</td>\n",
              "      <td>0.689</td>\n",
              "      <td>129621.0</td>\n",
              "      <td>...</td>\n",
              "      <td>7.0</td>\n",
              "      <td>0.3450</td>\n",
              "      <td>-9.637</td>\n",
              "      <td>1.0</td>\n",
              "      <td>0.1580</td>\n",
              "      <td>128.961</td>\n",
              "      <td>4.0</td>\n",
              "      <td>0.593</td>\n",
              "      <td>https://open.spotify.com/track/1KaBRg2xgNeCljm...</td>\n",
              "      <td>Tamil</td>\n",
              "    </tr>\n",
              "    <tr>\n",
              "      <th>...</th>\n",
              "      <td>...</td>\n",
              "      <td>...</td>\n",
              "      <td>...</td>\n",
              "      <td>...</td>\n",
              "      <td>...</td>\n",
              "      <td>...</td>\n",
              "      <td>...</td>\n",
              "      <td>...</td>\n",
              "      <td>...</td>\n",
              "      <td>...</td>\n",
              "      <td>...</td>\n",
              "      <td>...</td>\n",
              "      <td>...</td>\n",
              "      <td>...</td>\n",
              "      <td>...</td>\n",
              "      <td>...</td>\n",
              "      <td>...</td>\n",
              "      <td>...</td>\n",
              "      <td>...</td>\n",
              "      <td>...</td>\n",
              "      <td>...</td>\n",
              "    </tr>\n",
              "    <tr>\n",
              "      <th>22128</th>\n",
              "      <td>0nrRP2bk19rLc0orkWPQk2</td>\n",
              "      <td>Wake Me Up</td>\n",
              "      <td>Avicii</td>\n",
              "      <td>2013.0</td>\n",
              "      <td>87.0</td>\n",
              "      <td>https://i.scdn.co/image/ab67616d0000b273e14f11...</td>\n",
              "      <td>True</td>\n",
              "      <td>0.00380</td>\n",
              "      <td>0.532</td>\n",
              "      <td>247427.0</td>\n",
              "      <td>...</td>\n",
              "      <td>2.0</td>\n",
              "      <td>0.1610</td>\n",
              "      <td>-5.697</td>\n",
              "      <td>1.0</td>\n",
              "      <td>0.0523</td>\n",
              "      <td>124.080</td>\n",
              "      <td>4.0</td>\n",
              "      <td>0.643</td>\n",
              "      <td>https://open.spotify.com/track/0nrRP2bk19rLc0o...</td>\n",
              "      <td>English</td>\n",
              "    </tr>\n",
              "    <tr>\n",
              "      <th>22129</th>\n",
              "      <td>4lhqb6JvbHId48OUJGwymk</td>\n",
              "      <td>Hey Brother</td>\n",
              "      <td>Avicii</td>\n",
              "      <td>2013.0</td>\n",
              "      <td>79.0</td>\n",
              "      <td>https://i.scdn.co/image/ab67616d0000b273e14f11...</td>\n",
              "      <td>True</td>\n",
              "      <td>0.03090</td>\n",
              "      <td>0.545</td>\n",
              "      <td>255093.0</td>\n",
              "      <td>...</td>\n",
              "      <td>7.0</td>\n",
              "      <td>0.0828</td>\n",
              "      <td>-4.867</td>\n",
              "      <td>0.0</td>\n",
              "      <td>0.0436</td>\n",
              "      <td>125.014</td>\n",
              "      <td>4.0</td>\n",
              "      <td>0.458</td>\n",
              "      <td>https://open.spotify.com/track/4lhqb6JvbHId48O...</td>\n",
              "      <td>English</td>\n",
              "    </tr>\n",
              "    <tr>\n",
              "      <th>22130</th>\n",
              "      <td>4eDYMhIin1pSLIG96f1aD0</td>\n",
              "      <td>Addicted To You</td>\n",
              "      <td>Avicii</td>\n",
              "      <td>2013.0</td>\n",
              "      <td>76.0</td>\n",
              "      <td>https://i.scdn.co/image/ab67616d0000b273e14f11...</td>\n",
              "      <td>True</td>\n",
              "      <td>0.05050</td>\n",
              "      <td>0.569</td>\n",
              "      <td>148387.0</td>\n",
              "      <td>...</td>\n",
              "      <td>1.0</td>\n",
              "      <td>0.0860</td>\n",
              "      <td>-4.057</td>\n",
              "      <td>0.0</td>\n",
              "      <td>0.0457</td>\n",
              "      <td>128.031</td>\n",
              "      <td>4.0</td>\n",
              "      <td>0.303</td>\n",
              "      <td>https://open.spotify.com/track/4eDYMhIin1pSLIG...</td>\n",
              "      <td>English</td>\n",
              "    </tr>\n",
              "    <tr>\n",
              "      <th>22131</th>\n",
              "      <td>52RK8UVEDgUAgpecOpTQM3</td>\n",
              "      <td>You Make Me</td>\n",
              "      <td>Avicii</td>\n",
              "      <td>2013.0</td>\n",
              "      <td>67.0</td>\n",
              "      <td>https://i.scdn.co/image/ab67616d0000b273e14f11...</td>\n",
              "      <td>True</td>\n",
              "      <td>0.00247</td>\n",
              "      <td>0.586</td>\n",
              "      <td>233347.0</td>\n",
              "      <td>...</td>\n",
              "      <td>6.0</td>\n",
              "      <td>0.1520</td>\n",
              "      <td>-4.799</td>\n",
              "      <td>1.0</td>\n",
              "      <td>0.0390</td>\n",
              "      <td>124.990</td>\n",
              "      <td>4.0</td>\n",
              "      <td>0.496</td>\n",
              "      <td>https://open.spotify.com/track/52RK8UVEDgUAgpe...</td>\n",
              "      <td>English</td>\n",
              "    </tr>\n",
              "    <tr>\n",
              "      <th>22132</th>\n",
              "      <td>4QRZirU4s1f30iDH</td>\n",
              "      <td>NaN</td>\n",
              "      <td>NaN</td>\n",
              "      <td>NaN</td>\n",
              "      <td>NaN</td>\n",
              "      <td>NaN</td>\n",
              "      <td>NaN</td>\n",
              "      <td>NaN</td>\n",
              "      <td>NaN</td>\n",
              "      <td>NaN</td>\n",
              "      <td>...</td>\n",
              "      <td>NaN</td>\n",
              "      <td>NaN</td>\n",
              "      <td>NaN</td>\n",
              "      <td>NaN</td>\n",
              "      <td>NaN</td>\n",
              "      <td>NaN</td>\n",
              "      <td>NaN</td>\n",
              "      <td>NaN</td>\n",
              "      <td>NaN</td>\n",
              "      <td>NaN</td>\n",
              "    </tr>\n",
              "  </tbody>\n",
              "</table>\n",
              "<p>22058 rows × 22 columns</p>\n",
              "</div>\n",
              "    <div class=\"colab-df-buttons\">\n",
              "\n",
              "  <div class=\"colab-df-container\">\n",
              "    <button class=\"colab-df-convert\" onclick=\"convertToInteractive('df-8ba6d38d-74bc-4899-aa77-ef95c65a9027')\"\n",
              "            title=\"Convert this dataframe to an interactive table.\"\n",
              "            style=\"display:none;\">\n",
              "\n",
              "  <svg xmlns=\"http://www.w3.org/2000/svg\" height=\"24px\" viewBox=\"0 -960 960 960\">\n",
              "    <path d=\"M120-120v-720h720v720H120Zm60-500h600v-160H180v160Zm220 220h160v-160H400v160Zm0 220h160v-160H400v160ZM180-400h160v-160H180v160Zm440 0h160v-160H620v160ZM180-180h160v-160H180v160Zm440 0h160v-160H620v160Z\"/>\n",
              "  </svg>\n",
              "    </button>\n",
              "\n",
              "  <style>\n",
              "    .colab-df-container {\n",
              "      display:flex;\n",
              "      gap: 12px;\n",
              "    }\n",
              "\n",
              "    .colab-df-convert {\n",
              "      background-color: #E8F0FE;\n",
              "      border: none;\n",
              "      border-radius: 50%;\n",
              "      cursor: pointer;\n",
              "      display: none;\n",
              "      fill: #1967D2;\n",
              "      height: 32px;\n",
              "      padding: 0 0 0 0;\n",
              "      width: 32px;\n",
              "    }\n",
              "\n",
              "    .colab-df-convert:hover {\n",
              "      background-color: #E2EBFA;\n",
              "      box-shadow: 0px 1px 2px rgba(60, 64, 67, 0.3), 0px 1px 3px 1px rgba(60, 64, 67, 0.15);\n",
              "      fill: #174EA6;\n",
              "    }\n",
              "\n",
              "    .colab-df-buttons div {\n",
              "      margin-bottom: 4px;\n",
              "    }\n",
              "\n",
              "    [theme=dark] .colab-df-convert {\n",
              "      background-color: #3B4455;\n",
              "      fill: #D2E3FC;\n",
              "    }\n",
              "\n",
              "    [theme=dark] .colab-df-convert:hover {\n",
              "      background-color: #434B5C;\n",
              "      box-shadow: 0px 1px 3px 1px rgba(0, 0, 0, 0.15);\n",
              "      filter: drop-shadow(0px 1px 2px rgba(0, 0, 0, 0.3));\n",
              "      fill: #FFFFFF;\n",
              "    }\n",
              "  </style>\n",
              "\n",
              "    <script>\n",
              "      const buttonEl =\n",
              "        document.querySelector('#df-8ba6d38d-74bc-4899-aa77-ef95c65a9027 button.colab-df-convert');\n",
              "      buttonEl.style.display =\n",
              "        google.colab.kernel.accessAllowed ? 'block' : 'none';\n",
              "\n",
              "      async function convertToInteractive(key) {\n",
              "        const element = document.querySelector('#df-8ba6d38d-74bc-4899-aa77-ef95c65a9027');\n",
              "        const dataTable =\n",
              "          await google.colab.kernel.invokeFunction('convertToInteractive',\n",
              "                                                    [key], {});\n",
              "        if (!dataTable) return;\n",
              "\n",
              "        const docLinkHtml = 'Like what you see? Visit the ' +\n",
              "          '<a target=\"_blank\" href=https://colab.research.google.com/notebooks/data_table.ipynb>data table notebook</a>'\n",
              "          + ' to learn more about interactive tables.';\n",
              "        element.innerHTML = '';\n",
              "        dataTable['output_type'] = 'display_data';\n",
              "        await google.colab.output.renderOutput(dataTable, element);\n",
              "        const docLink = document.createElement('div');\n",
              "        docLink.innerHTML = docLinkHtml;\n",
              "        element.appendChild(docLink);\n",
              "      }\n",
              "    </script>\n",
              "  </div>\n",
              "\n",
              "\n",
              "<div id=\"df-78b9332a-cdf7-45c6-9c80-f0e1d28127a4\">\n",
              "  <button class=\"colab-df-quickchart\" onclick=\"quickchart('df-78b9332a-cdf7-45c6-9c80-f0e1d28127a4')\"\n",
              "            title=\"Suggest charts\"\n",
              "            style=\"display:none;\">\n",
              "\n",
              "<svg xmlns=\"http://www.w3.org/2000/svg\" height=\"24px\"viewBox=\"0 0 24 24\"\n",
              "     width=\"24px\">\n",
              "    <g>\n",
              "        <path d=\"M19 3H5c-1.1 0-2 .9-2 2v14c0 1.1.9 2 2 2h14c1.1 0 2-.9 2-2V5c0-1.1-.9-2-2-2zM9 17H7v-7h2v7zm4 0h-2V7h2v10zm4 0h-2v-4h2v4z\"/>\n",
              "    </g>\n",
              "</svg>\n",
              "  </button>\n",
              "\n",
              "<style>\n",
              "  .colab-df-quickchart {\n",
              "      --bg-color: #E8F0FE;\n",
              "      --fill-color: #1967D2;\n",
              "      --hover-bg-color: #E2EBFA;\n",
              "      --hover-fill-color: #174EA6;\n",
              "      --disabled-fill-color: #AAA;\n",
              "      --disabled-bg-color: #DDD;\n",
              "  }\n",
              "\n",
              "  [theme=dark] .colab-df-quickchart {\n",
              "      --bg-color: #3B4455;\n",
              "      --fill-color: #D2E3FC;\n",
              "      --hover-bg-color: #434B5C;\n",
              "      --hover-fill-color: #FFFFFF;\n",
              "      --disabled-bg-color: #3B4455;\n",
              "      --disabled-fill-color: #666;\n",
              "  }\n",
              "\n",
              "  .colab-df-quickchart {\n",
              "    background-color: var(--bg-color);\n",
              "    border: none;\n",
              "    border-radius: 50%;\n",
              "    cursor: pointer;\n",
              "    display: none;\n",
              "    fill: var(--fill-color);\n",
              "    height: 32px;\n",
              "    padding: 0;\n",
              "    width: 32px;\n",
              "  }\n",
              "\n",
              "  .colab-df-quickchart:hover {\n",
              "    background-color: var(--hover-bg-color);\n",
              "    box-shadow: 0 1px 2px rgba(60, 64, 67, 0.3), 0 1px 3px 1px rgba(60, 64, 67, 0.15);\n",
              "    fill: var(--button-hover-fill-color);\n",
              "  }\n",
              "\n",
              "  .colab-df-quickchart-complete:disabled,\n",
              "  .colab-df-quickchart-complete:disabled:hover {\n",
              "    background-color: var(--disabled-bg-color);\n",
              "    fill: var(--disabled-fill-color);\n",
              "    box-shadow: none;\n",
              "  }\n",
              "\n",
              "  .colab-df-spinner {\n",
              "    border: 2px solid var(--fill-color);\n",
              "    border-color: transparent;\n",
              "    border-bottom-color: var(--fill-color);\n",
              "    animation:\n",
              "      spin 1s steps(1) infinite;\n",
              "  }\n",
              "\n",
              "  @keyframes spin {\n",
              "    0% {\n",
              "      border-color: transparent;\n",
              "      border-bottom-color: var(--fill-color);\n",
              "      border-left-color: var(--fill-color);\n",
              "    }\n",
              "    20% {\n",
              "      border-color: transparent;\n",
              "      border-left-color: var(--fill-color);\n",
              "      border-top-color: var(--fill-color);\n",
              "    }\n",
              "    30% {\n",
              "      border-color: transparent;\n",
              "      border-left-color: var(--fill-color);\n",
              "      border-top-color: var(--fill-color);\n",
              "      border-right-color: var(--fill-color);\n",
              "    }\n",
              "    40% {\n",
              "      border-color: transparent;\n",
              "      border-right-color: var(--fill-color);\n",
              "      border-top-color: var(--fill-color);\n",
              "    }\n",
              "    60% {\n",
              "      border-color: transparent;\n",
              "      border-right-color: var(--fill-color);\n",
              "    }\n",
              "    80% {\n",
              "      border-color: transparent;\n",
              "      border-right-color: var(--fill-color);\n",
              "      border-bottom-color: var(--fill-color);\n",
              "    }\n",
              "    90% {\n",
              "      border-color: transparent;\n",
              "      border-bottom-color: var(--fill-color);\n",
              "    }\n",
              "  }\n",
              "</style>\n",
              "\n",
              "  <script>\n",
              "    async function quickchart(key) {\n",
              "      const quickchartButtonEl =\n",
              "        document.querySelector('#' + key + ' button');\n",
              "      quickchartButtonEl.disabled = true;  // To prevent multiple clicks.\n",
              "      quickchartButtonEl.classList.add('colab-df-spinner');\n",
              "      try {\n",
              "        const charts = await google.colab.kernel.invokeFunction(\n",
              "            'suggestCharts', [key], {});\n",
              "      } catch (error) {\n",
              "        console.error('Error during call to suggestCharts:', error);\n",
              "      }\n",
              "      quickchartButtonEl.classList.remove('colab-df-spinner');\n",
              "      quickchartButtonEl.classList.add('colab-df-quickchart-complete');\n",
              "    }\n",
              "    (() => {\n",
              "      let quickchartButtonEl =\n",
              "        document.querySelector('#df-78b9332a-cdf7-45c6-9c80-f0e1d28127a4 button');\n",
              "      quickchartButtonEl.style.display =\n",
              "        google.colab.kernel.accessAllowed ? 'block' : 'none';\n",
              "    })();\n",
              "  </script>\n",
              "</div>\n",
              "\n",
              "    </div>\n",
              "  </div>\n"
            ],
            "application/vnd.google.colaboratory.intrinsic+json": {
              "type": "dataframe"
            }
          },
          "metadata": {},
          "execution_count": 5
        }
      ]
    },
    {
      "cell_type": "code",
      "source": [
        "unknown_songs = original_data[original_data['language'].str.lower() == 'unknown']\n",
        "\n",
        "unknown_song_names = unknown_songs['track_name']\n",
        "print(unknown_song_names)\n"
      ],
      "metadata": {
        "colab": {
          "base_uri": "https://localhost:8080/"
        },
        "id": "X3H4GnpEiZ11",
        "outputId": "93e3620c-a792-43bf-9b85-ed6d3d8a8bcb"
      },
      "execution_count": 6,
      "outputs": [
        {
          "output_type": "stream",
          "name": "stdout",
          "text": [
            "1169                           Ori Vaari - Lofi Flip\n",
            "1170          Neeye Oli - From \"Sarpatta Parambarai\"\n",
            "1171                                  Wrong Pannadha\n",
            "1172          Maamadura - From \"Jigarthanda DoubleX\"\n",
            "1173                                    Unakku Thaan\n",
            "                            ...                     \n",
            "19729                           Ladies And Gentlemen\n",
            "19730                                  Vasudevasutam\n",
            "19731                           Namdella Bari Plussu\n",
            "19732                                  Ganesh Kavach\n",
            "19733    Dyuhu Shaantirantarikshyam (Shaanti Mantra)\n",
            "Name: track_name, Length: 8999, dtype: object\n"
          ]
        }
      ]
    },
    {
      "cell_type": "code",
      "source": [
        "search_term = \"soch\"\n",
        "result = original_data[original_data['track_name'].str.contains(search_term, case=False, na=False)]\n",
        "print(result[['track_name', 'artist_name', 'language']])\n"
      ],
      "metadata": {
        "colab": {
          "base_uri": "https://localhost:8080/"
        },
        "id": "p18Jlevaivqe",
        "outputId": "20a0ea18-91f0-40e4-87f8-079d90ade6bd"
      },
      "execution_count": 7,
      "outputs": [
        {
          "output_type": "stream",
          "name": "stdout",
          "text": [
            "                                track_name  \\\n",
            "7301                       Soch Liya Remix   \n",
            "7706             Maine Socha Ke Chura Loon   \n",
            "7710         Soch Na Sake (From \"Airlift\")   \n",
            "7781         Soch Na Sake (From \"Airlift\")   \n",
            "7889         Soch Na Sake (From \"Airlift\")   \n",
            "7920          Soch Na Sake (From \"Airlift)   \n",
            "8006                          Soch Na Sake   \n",
            "8643                    Kabhi Socha Na Tha   \n",
            "13931                    Tujhe Sochta Hoon   \n",
            "14171                    Tujhe Sochta Hoon   \n",
            "14665  Tujhe Sochta Hoon (From \"Jannat 2\")   \n",
            "14682  Tujhe Sochta Hoon (From \"Jannat 2\")   \n",
            "14785                    Tujhe Sochta Hoon   \n",
            "18367                         Aage Ki Soch   \n",
            "\n",
            "                                         artist_name language  \n",
            "7301             Arijit Singh, Mithoon, Dj Amit Shah    Hindi  \n",
            "7706                    Arijit Singh, Shreya Ghoshal    Hindi  \n",
            "7710                                    Arijit Singh    Hindi  \n",
            "7781                                    Arijit Singh    Hindi  \n",
            "7889                                    Arijit Singh    Hindi  \n",
            "7920                                    Arijit Singh    Hindi  \n",
            "8006                                    Arijit Singh    Hindi  \n",
            "8643                                       Javed Ali    Hindi  \n",
            "13931                                     Pritam, KK    Hindi  \n",
            "14171                                     Pritam, KK    Hindi  \n",
            "14665                                     Pritam, KK    Hindi  \n",
            "14682                                     Pritam, KK    Hindi  \n",
            "14785                                     Pritam, KK    Hindi  \n",
            "18367  Jonita Gandhi, Shashwat Singh, Akshay The One  Unknown  \n"
          ]
        }
      ]
    },
    {
      "cell_type": "code",
      "source": [
        "for col in original_data.columns: #drop missing terms\n",
        "  original_data.dropna(inplace=True)"
      ],
      "metadata": {
        "id": "JfPc6_9D40U0"
      },
      "execution_count": 8,
      "outputs": []
    },
    {
      "cell_type": "code",
      "source": [
        "original_data.isnull().sum() #checking again"
      ],
      "metadata": {
        "id": "18Ud4E6611D2",
        "outputId": "cd804893-371f-4585-e242-ecb9fe954c32",
        "colab": {
          "base_uri": "https://localhost:8080/",
          "height": 774
        }
      },
      "execution_count": 9,
      "outputs": [
        {
          "output_type": "execute_result",
          "data": {
            "text/plain": [
              "track_id            0\n",
              "track_name          0\n",
              "artist_name         0\n",
              "year                0\n",
              "popularity          0\n",
              "artwork_url         0\n",
              "album_name          0\n",
              "acousticness        0\n",
              "danceability        0\n",
              "duration_ms         0\n",
              "energy              0\n",
              "instrumentalness    0\n",
              "key                 0\n",
              "liveness            0\n",
              "loudness            0\n",
              "mode                0\n",
              "speechiness         0\n",
              "tempo               0\n",
              "time_signature      0\n",
              "valence             0\n",
              "track_url           0\n",
              "language            0\n",
              "dtype: int64"
            ],
            "text/html": [
              "<div>\n",
              "<style scoped>\n",
              "    .dataframe tbody tr th:only-of-type {\n",
              "        vertical-align: middle;\n",
              "    }\n",
              "\n",
              "    .dataframe tbody tr th {\n",
              "        vertical-align: top;\n",
              "    }\n",
              "\n",
              "    .dataframe thead th {\n",
              "        text-align: right;\n",
              "    }\n",
              "</style>\n",
              "<table border=\"1\" class=\"dataframe\">\n",
              "  <thead>\n",
              "    <tr style=\"text-align: right;\">\n",
              "      <th></th>\n",
              "      <th>0</th>\n",
              "    </tr>\n",
              "  </thead>\n",
              "  <tbody>\n",
              "    <tr>\n",
              "      <th>track_id</th>\n",
              "      <td>0</td>\n",
              "    </tr>\n",
              "    <tr>\n",
              "      <th>track_name</th>\n",
              "      <td>0</td>\n",
              "    </tr>\n",
              "    <tr>\n",
              "      <th>artist_name</th>\n",
              "      <td>0</td>\n",
              "    </tr>\n",
              "    <tr>\n",
              "      <th>year</th>\n",
              "      <td>0</td>\n",
              "    </tr>\n",
              "    <tr>\n",
              "      <th>popularity</th>\n",
              "      <td>0</td>\n",
              "    </tr>\n",
              "    <tr>\n",
              "      <th>artwork_url</th>\n",
              "      <td>0</td>\n",
              "    </tr>\n",
              "    <tr>\n",
              "      <th>album_name</th>\n",
              "      <td>0</td>\n",
              "    </tr>\n",
              "    <tr>\n",
              "      <th>acousticness</th>\n",
              "      <td>0</td>\n",
              "    </tr>\n",
              "    <tr>\n",
              "      <th>danceability</th>\n",
              "      <td>0</td>\n",
              "    </tr>\n",
              "    <tr>\n",
              "      <th>duration_ms</th>\n",
              "      <td>0</td>\n",
              "    </tr>\n",
              "    <tr>\n",
              "      <th>energy</th>\n",
              "      <td>0</td>\n",
              "    </tr>\n",
              "    <tr>\n",
              "      <th>instrumentalness</th>\n",
              "      <td>0</td>\n",
              "    </tr>\n",
              "    <tr>\n",
              "      <th>key</th>\n",
              "      <td>0</td>\n",
              "    </tr>\n",
              "    <tr>\n",
              "      <th>liveness</th>\n",
              "      <td>0</td>\n",
              "    </tr>\n",
              "    <tr>\n",
              "      <th>loudness</th>\n",
              "      <td>0</td>\n",
              "    </tr>\n",
              "    <tr>\n",
              "      <th>mode</th>\n",
              "      <td>0</td>\n",
              "    </tr>\n",
              "    <tr>\n",
              "      <th>speechiness</th>\n",
              "      <td>0</td>\n",
              "    </tr>\n",
              "    <tr>\n",
              "      <th>tempo</th>\n",
              "      <td>0</td>\n",
              "    </tr>\n",
              "    <tr>\n",
              "      <th>time_signature</th>\n",
              "      <td>0</td>\n",
              "    </tr>\n",
              "    <tr>\n",
              "      <th>valence</th>\n",
              "      <td>0</td>\n",
              "    </tr>\n",
              "    <tr>\n",
              "      <th>track_url</th>\n",
              "      <td>0</td>\n",
              "    </tr>\n",
              "    <tr>\n",
              "      <th>language</th>\n",
              "      <td>0</td>\n",
              "    </tr>\n",
              "  </tbody>\n",
              "</table>\n",
              "</div><br><label><b>dtype:</b> int64</label>"
            ]
          },
          "metadata": {},
          "execution_count": 9
        }
      ]
    },
    {
      "cell_type": "code",
      "source": [
        "original_data.shape"
      ],
      "metadata": {
        "colab": {
          "base_uri": "https://localhost:8080/"
        },
        "id": "2VZg58stzz2F",
        "outputId": "d694694b-4f6c-41e4-e6f3-4990f3f4530d"
      },
      "execution_count": 10,
      "outputs": [
        {
          "output_type": "execute_result",
          "data": {
            "text/plain": [
              "(22132, 22)"
            ]
          },
          "metadata": {},
          "execution_count": 10
        }
      ]
    },
    {
      "cell_type": "code",
      "source": [
        "from sklearn.preprocessing import OneHotEncoder\n",
        "from sklearn.compose import ColumnTransformer"
      ],
      "metadata": {
        "id": "BWPiG8CqTWjk"
      },
      "execution_count": 11,
      "outputs": []
    },
    {
      "cell_type": "code",
      "source": [
        "# Selecting relevant columns for our predictive model\n",
        "selected_columns = [\n",
        "    'year', 'popularity', 'acousticness', 'danceability',\n",
        "    'duration_ms', 'energy', 'instrumentalness', 'key',\n",
        "    'liveness', 'loudness', 'mode', 'speechiness',\n",
        "    'tempo', 'time_signature', 'valence'\n",
        "]\n",
        "\n",
        "\n",
        "dataframe_features = original_data[selected_columns]\n",
        "\n",
        "#Identifying columns for different preprocessing methods\n",
        "numerical_cols = ['year', 'popularity', 'duration_ms', 'loudness', 'tempo'] #we need to encode popularity\n",
        "categorical_cols = ['key', 'time_signature'] #these need to be categorical\n",
        "passthrough_cols = ['acousticness', 'danceability', 'energy', 'instrumentalness',\n",
        "                    'liveness', 'mode', 'speechiness', 'valence']\n",
        "\n",
        "# Step 3: Create a ColumnTransformer for preprocessing\n",
        "preprocessor = ColumnTransformer(\n",
        "    transformers=[\n",
        "        ('num', StandardScaler(), numerical_cols),#numerical categories being encoded\n",
        "        ('cat', OneHotEncoder(handle_unknown='ignore'), categorical_cols) #already scaled beteen 0 and 1 by dataset\n",
        "    ],\n",
        "    remainder='passthrough'  # keep acousticness, etc. without changes\n",
        ")\n"
      ],
      "metadata": {
        "id": "ukFAjW8CTCpG"
      },
      "execution_count": 12,
      "outputs": []
    },
    {
      "cell_type": "code",
      "source": [
        "dataframe_features.info()"
      ],
      "metadata": {
        "colab": {
          "base_uri": "https://localhost:8080/"
        },
        "id": "LuSrkhoD4XjZ",
        "outputId": "77450b42-b596-4786-e005-21bad783e7a8"
      },
      "execution_count": 13,
      "outputs": [
        {
          "output_type": "stream",
          "name": "stdout",
          "text": [
            "<class 'pandas.core.frame.DataFrame'>\n",
            "Index: 22132 entries, 0 to 22131\n",
            "Data columns (total 15 columns):\n",
            " #   Column            Non-Null Count  Dtype  \n",
            "---  ------            --------------  -----  \n",
            " 0   year              22132 non-null  float64\n",
            " 1   popularity        22132 non-null  float64\n",
            " 2   acousticness      22132 non-null  float64\n",
            " 3   danceability      22132 non-null  float64\n",
            " 4   duration_ms       22132 non-null  float64\n",
            " 5   energy            22132 non-null  float64\n",
            " 6   instrumentalness  22132 non-null  float64\n",
            " 7   key               22132 non-null  float64\n",
            " 8   liveness          22132 non-null  float64\n",
            " 9   loudness          22132 non-null  float64\n",
            " 10  mode              22132 non-null  float64\n",
            " 11  speechiness       22132 non-null  float64\n",
            " 12  tempo             22132 non-null  float64\n",
            " 13  time_signature    22132 non-null  float64\n",
            " 14  valence           22132 non-null  float64\n",
            "dtypes: float64(15)\n",
            "memory usage: 2.7 MB\n"
          ]
        }
      ]
    },
    {
      "cell_type": "code",
      "source": [
        "sc=StandardScaler()\n",
        "dataframe=sc.fit_transform(dataframe_features)  #to centre and scale the data preparing it for PCA s.t. mean is zero and standard deviation is 1"
      ],
      "metadata": {
        "id": "BI7bj2b61_bU"
      },
      "execution_count": 14,
      "outputs": []
    },
    {
      "cell_type": "markdown",
      "source": [
        "<h1>KMEANS"
      ],
      "metadata": {
        "id": "Le9tn8BIAwZp"
      }
    },
    {
      "cell_type": "markdown",
      "source": [
        "**K means** is an ***unsupervised machine learning*** technique that helps us group *unlabeled* data into various clusters on the basis of their similarity.\n",
        "\n",
        "It is a ***“hard”*** clustering method. This form of grouping stipulates that a data point can exist in just one cluster.\n",
        "\n",
        "It is an ***iterative, centroid-based*** clustering algorithm that partitions a dataset into similar groups based on the distance between their centroids. The centroid, or cluster center, is either the mean or median of all the points within the cluster depending on the characteristics of the data."
      ],
      "metadata": {
        "id": "MacfO44WA0NW"
      }
    },
    {
      "cell_type": "markdown",
      "source": [
        "\n",
        "\n",
        "---\n",
        "\n"
      ],
      "metadata": {
        "id": "uPrWYxQvFJTS"
      }
    },
    {
      "cell_type": "markdown",
      "source": [
        "**<h3>Importing all important libraries**"
      ],
      "metadata": {
        "id": "BIcGBlGHHGny"
      }
    },
    {
      "cell_type": "code",
      "source": [
        "import matplotlib.pyplot as plt\n",
        "from sklearn.model_selection import train_test_split #to train test and split just in case\n",
        "from sklearn.decomposition import KernelPCA #Principal Component Analysis"
      ],
      "metadata": {
        "id": "b_QGxuCVHFz_"
      },
      "execution_count": 15,
      "outputs": []
    },
    {
      "cell_type": "markdown",
      "source": [
        "**Importing Data**"
      ],
      "metadata": {
        "id": "ts_5b1OqLzPC"
      }
    },
    {
      "cell_type": "code",
      "source": [
        "def get_language_song(original_data, data_scaled, language=\"hindi\"):\n",
        "    # Get indices of songs\n",
        "    song_indices = original_data[original_data['language'].str.contains(language, case=False, na=False)].index\n",
        "\n",
        "    # Filter scaled data to keep only songs of that language\n",
        "    songs_scaled = data_scaled[song_indices]\n",
        "\n",
        "    return songs_scaled\n"
      ],
      "metadata": {
        "id": "jZKTLgCALyzi"
      },
      "execution_count": 16,
      "outputs": []
    },
    {
      "cell_type": "code",
      "source": [
        "#no. of languages available\n",
        "list_of_languages=original_data['language'].unique()\n",
        "print(list_of_languages)"
      ],
      "metadata": {
        "colab": {
          "base_uri": "https://localhost:8080/"
        },
        "id": "T4vS-CjeiD-b",
        "outputId": "6782468b-5446-4862-8828-65c1eca5ca06"
      },
      "execution_count": 17,
      "outputs": [
        {
          "output_type": "stream",
          "name": "stdout",
          "text": [
            "['Tamil' 'English' 'Hindi' 'Unknown' 'Korean']\n"
          ]
        }
      ]
    },
    {
      "cell_type": "code",
      "source": [
        "#change hear need to introduce for all languages"
      ],
      "metadata": {
        "id": "Oc_h0egoYHay"
      },
      "execution_count": 18,
      "outputs": []
    },
    {
      "cell_type": "markdown",
      "source": [
        "\n",
        "\n",
        "---\n",
        "\n"
      ],
      "metadata": {
        "id": "7eld6KExYV8-"
      }
    },
    {
      "cell_type": "code",
      "source": [
        "# Filter songs_scaled and song_names\n",
        "hindi_songs_scaled = get_language_song(original_data,dataframe)# Our scaled Hindi features\n",
        "\n",
        "\n",
        "# Checking the shape of the filtered dataset\n",
        "print(hindi_songs_scaled.shape)  # (number_of_lang_songs, num_features)\n",
        "print(hindi_songs_scaled)"
      ],
      "metadata": {
        "id": "eq5b9k45a68h",
        "outputId": "cd347fb9-a38b-4564-d0fc-63afe9a6038c",
        "colab": {
          "base_uri": "https://localhost:8080/"
        }
      },
      "execution_count": 19,
      "outputs": [
        {
          "output_type": "stream",
          "name": "stdout",
          "text": [
            "(4362, 15)\n",
            "[[ 1.30293864  1.0883814  -0.28552163 ... -0.42175116  0.28123957\n",
            "  -0.31961506]\n",
            " [ 1.13535002  1.70579938 -1.17405653 ... -0.88554855  0.28123957\n",
            "  -0.17617494]\n",
            " [ 1.13535002  0.69547905 -1.26490869 ... -0.88590491  0.28123957\n",
            "  -0.62698675]\n",
            " ...\n",
            " [-0.87571337  2.21095954 -1.24243234 ... -0.24510547  0.28123957\n",
            "   0.63118803]\n",
            " [-0.87571337  0.69547905 -1.18247201 ... -0.24567564  0.28123957\n",
            "   0.78282473]\n",
            " [-0.87571337  0.58322124 -1.19229008 ... -0.24599636  0.28123957\n",
            "   0.78692302]]\n"
          ]
        }
      ]
    },
    {
      "cell_type": "code",
      "source": [
        "# Filter songs_scaled and song_names\n",
        "english_songs_scaled = get_language_song(original_data,dataframe,\"english\")# Our scaled Hindi features\n",
        "\n",
        "\n",
        "# Checking the shape of the filtered dataset\n",
        "print(english_songs_scaled.shape)  # (number_of_lang_songs, num_features)\n",
        "print(english_songs_scaled)"
      ],
      "metadata": {
        "colab": {
          "base_uri": "https://localhost:8080/"
        },
        "id": "GX1S7b0IfMUk",
        "outputId": "86787cc6-c2a8-4e1c-f907-bf729bb099b5"
      },
      "execution_count": 20,
      "outputs": [
        {
          "output_type": "stream",
          "name": "stdout",
          "text": [
            "(2468, 15)\n",
            "[[ 1.30293864  0.19031889 -0.85006038 ...  0.07500916  0.28123957\n",
            "   1.19675194]\n",
            " [ 1.30293864 -0.14645455  0.31408163 ... -0.66567687  0.28123957\n",
            "   0.77462816]\n",
            " [ 1.13535002 -0.42709909 -1.17475782 ...  0.36105616  0.28123957\n",
            "  -0.06961942]\n",
            " ...\n",
            " [-0.54053613  3.61418221 -1.15897878 ...  0.25471951  0.28123957\n",
            "  -0.29092704]\n",
            " [-0.54053613  3.44579549 -1.09025233 ...  0.36223213  0.28123957\n",
            "  -0.92616186]\n",
            " [-0.54053613  2.94063533 -1.25866721 ...  0.25386426  0.28123957\n",
            "  -0.13519205]]\n"
          ]
        }
      ]
    },
    {
      "cell_type": "code",
      "source": [
        "# Filter songs_scaled and song_names\n",
        "korean_songs_scaled = get_language_song(original_data,dataframe,\"korean\")# Our scaled Hindi features\n",
        "\n",
        "\n",
        "# Checking the shape of the filtered dataset\n",
        "print(korean_songs_scaled.shape)  # (number_of_lang_songs, num_features)\n",
        "print(korean_songs_scaled)"
      ],
      "metadata": {
        "colab": {
          "base_uri": "https://localhost:8080/"
        },
        "id": "CA1GtfBjfNf8",
        "outputId": "d477a028-9398-4029-e8a7-785c5602065b"
      },
      "execution_count": 21,
      "outputs": [
        {
          "output_type": "stream",
          "name": "stdout",
          "text": [
            "(2, 15)\n",
            "[[ 1.13535002 -0.5393569  -1.2049133  -1.31212673 -0.57387518 -1.62674215\n",
            "  -0.34931565 -1.44849232  2.48944748  0.00780035  0.84848502 -0.44847888\n",
            "   1.5020013   0.28123957 -2.00729055]\n",
            " [ 1.13535002 -0.76387253 -1.18106943 -0.73404639 -0.67180842 -1.42235385\n",
            "  -0.23516011  1.61939539  4.16471641  0.00831806  0.84848502 -0.56551249\n",
            "  -0.27778332  0.28123957 -1.88639102]]\n"
          ]
        }
      ]
    },
    {
      "cell_type": "code",
      "source": [
        "# Filter songs_scaled and song_names\n",
        "tamil_songs_scaled = get_language_song(original_data,dataframe,\"tamil\")# Our scaled Hindi features\n",
        "\n",
        "\n",
        "# Checking the shape of the filtered dataset\n",
        "print(tamil_songs_scaled.shape)  # (number_of_lang_songs, num_features)\n",
        "print(tamil_songs_scaled)"
      ],
      "metadata": {
        "colab": {
          "base_uri": "https://localhost:8080/"
        },
        "id": "D8zUg-82frja",
        "outputId": "0d6e7cba-3fec-4ad9-8231-704fec620a08"
      },
      "execution_count": 22,
      "outputs": [
        {
          "output_type": "stream",
          "name": "stdout",
          "text": [
            "(6301, 15)\n",
            "[[ 1.30293864  2.49160407 -1.18282266 ... -0.24478475  0.28123957\n",
            "  -0.28682875]\n",
            " [ 1.30293864  1.81805719 -0.9689291  ...  1.67946661 -1.7067496\n",
            "   1.19675194]\n",
            " [ 1.30293864  1.14451031 -1.15827749 ...  1.85768026  0.28123957\n",
            "   0.28283345]\n",
            " ...\n",
            " [-0.87571337  1.81805719  1.91302366 ...  0.01325266 -1.7067496\n",
            "  -0.16797836]\n",
            " [ 1.30293864 -0.82000143 -0.95385135 ... -0.5294776   0.28123957\n",
            "   1.74182441]\n",
            " [ 1.13535002 -0.82000143 -0.28201518 ... -0.53004776  0.28123957\n",
            "   1.77051243]]\n"
          ]
        }
      ]
    },
    {
      "cell_type": "code",
      "source": [
        "# Filter songs_scaled and song_names\n",
        "unknown_songs_scaled = get_language_song(original_data,dataframe,\"unknown\")#unknown comprises a good chunk\n",
        "\n",
        "# Checking the shape of the filtered dataset\n",
        "print(unknown_songs_scaled.shape)  # (number_of_lang_songs, num_features)\n",
        "print(unknown_songs_scaled)"
      ],
      "metadata": {
        "colab": {
          "base_uri": "https://localhost:8080/"
        },
        "id": "jIg_YFXLjRCx",
        "outputId": "e227948d-0986-4799-87b3-73ce7d418930"
      },
      "execution_count": 23,
      "outputs": [
        {
          "output_type": "stream",
          "name": "stdout",
          "text": [
            "(8999, 15)\n",
            "[[ 1.30293864 -0.37097018  1.5097817  ... -0.63617059  0.28123957\n",
            "  -1.79376969]\n",
            " [ 1.30293864  0.19031889 -0.95385135 ...  1.50328418  0.28123957\n",
            "  -0.6474782 ]\n",
            " [ 1.30293864 -0.82000143 -0.53447971 ...  0.36308738  0.28123957\n",
            "   0.21316254]\n",
            " ...\n",
            " [-0.2053589  -0.82000143  0.31057518 ... -0.99231282  0.28123957\n",
            "   1.31150404]\n",
            " [-0.2053589  -0.82000143  0.27901711 ... -0.86769512  0.28123957\n",
            "   1.0246238 ]\n",
            " [-0.2053589  -0.82000143  0.23343324 ... -0.63613496  0.28123957\n",
            "  -1.88885   ]]\n"
          ]
        }
      ]
    },
    {
      "cell_type": "markdown",
      "source": [
        "**<H3>PCA**"
      ],
      "metadata": {
        "id": "Shn1Xu4zOFtt"
      }
    },
    {
      "cell_type": "markdown",
      "source": [
        "In SKLEARN,\n",
        "Variation is calculated as:\n",
        "\n",
        "(measurement-mean)^2/no. of samples\n",
        "\n",
        "Below is the part where we do all the meansurements"
      ],
      "metadata": {
        "id": "RPEv2nvpRfx9"
      }
    },
    {
      "cell_type": "code",
      "source": [
        "kpca = KernelPCA(n_components=2,kernel=\"rbf\",gamma=0.1)  #reducing the number of components to 2 since it is easier to observe in terms of clusters"
      ],
      "metadata": {
        "id": "qtY7G8NoIGur"
      },
      "execution_count": 24,
      "outputs": []
    },
    {
      "cell_type": "code",
      "source": [
        "#where we do all the pca math of loading scores and variations each pca accounts for(basically co-ordinates)\n",
        "\n",
        "#we generate scores for a pca graph and variations\n",
        "\n",
        "hindi_songs_scaled = kpca.fit_transform(hindi_songs_scaled)\n",
        "english_songs_scaled = kpca.fit_transform(english_songs_scaled)\n",
        "unknown_songs_scaled = kpca.fit_transform(unknown_songs_scaled)\n",
        "tamil_songs_scaled = kpca.fit_transform(tamil_songs_scaled)\n",
        "korean_songs_scaled = kpca.fit_transform(korean_songs_scaled)"
      ],
      "metadata": {
        "id": "dTpkI51qcvod"
      },
      "execution_count": 25,
      "outputs": []
    },
    {
      "cell_type": "markdown",
      "source": [
        "**<h3>Optimising K means</h3>**\n",
        "\n",
        "1. **Properly selecting the initial centroids**\n",
        "\n",
        " K Means++ is a more advanced method to initialise centroids as starting them out as random is a always a bad choice.\n"
      ],
      "metadata": {
        "id": "Ya4vW0KgFfbZ"
      }
    },
    {
      "cell_type": "code",
      "source": [
        "#K-Means++ for initial centroids\n",
        "def kmeans_plus_plus(X, k): #gets data and k's value\n",
        "    \"\"\"Initialize centroids using K-Means++ method.\"\"\"\n",
        "    np.random.seed(42)  # For reproducibility\n",
        "    n_samples = X.shape[0]\n",
        "\n",
        "    #Randomly selecting the first centroid\n",
        "    centroids = [X[np.random.randint(n_samples)]]\n",
        "\n",
        "    for i in range(1, k):\n",
        "        #Computing squared distances to the nearest centroid\n",
        "        distances = np.array([min(np.linalg.norm(x - c)**2 for c in centroids) for x in X])\n",
        "\n",
        "        #Choosing next centroid on the basis of probability proportional to distance²\n",
        "        probabilities=distances/distances.sum()\n",
        "        new_centroid_index=np.random.choice(n_samples,p=probabilities)\n",
        "\n",
        "        # Adding the new centroid\n",
        "        centroids.append(X[new_centroid_index])\n",
        "\n",
        "    return np.array(centroids)"
      ],
      "metadata": {
        "id": "SYqYiBtPAv9T"
      },
      "execution_count": 26,
      "outputs": []
    },
    {
      "cell_type": "code",
      "execution_count": 27,
      "metadata": {
        "id": "CFKx0mVCAY_e"
      },
      "outputs": [],
      "source": [
        "class KMeansFromScratch:\n",
        "    def __init__(self, k=None, max_k=6, max_iters=100, tol=1e-4, auto_k=True):\n",
        "        \"\"\"\n",
        "        k: Number of clusters (if None, auto-detect using Elbow method)\n",
        "        max_k: Max clusters for Elbow method (used if auto_k=True)\n",
        "        max_iters: Maximum iterations for convergence\n",
        "        tol: Tolerance to stop iterations early\n",
        "        auto_k: If True, automatically find the best k using Elbow method\n",
        "        \"\"\"\n",
        "        self.k = k\n",
        "        self.max_iters = max_iters\n",
        "        self.tol = tol\n",
        "        self.auto_k = auto_k\n",
        "        self.max_k = max_k\n",
        "\n",
        "    def fit(self, X):\n",
        "\n",
        "        if self.auto_k and self.k is None:\n",
        "            self.k = self.find_optimal_k(X)  # Find best k before clustering\n",
        "\n",
        "        # Using K-Means++ for better initialisation\n",
        "        self.centroids = kmeans_plus_plus(X, self.k)\n",
        "\n",
        "        for i in range(self.max_iters):\n",
        "            #Assigning points to nearest centroid, this is where clusters are forming\n",
        "            #np.argmin returns the index of the closest centroid\n",
        "            self.labels = np.array([np.argmin([np.linalg.norm(x - c) for c in self.centroids]) for x in X]) #euclidean distance is being considered\n",
        "\n",
        "            #Computing new centroids\n",
        "            '''\n",
        "            For each cluster j, calculating the mean of all points assigned to it.\n",
        "\n",
        "            This updates the centroid locations based on the new cluster assignments.\n",
        "            for eg.\n",
        "            cluster 1: (1,2) and (2,4) new mean will be (1.5,3) New Centroid-1\n",
        "            cluster 2: (0,2) and (1,1.5) new mean will be (0.5,1.75) New Centroid-2\n",
        "            '''\n",
        "            new_centroids = np.array([X[self.labels == j].mean(axis=0) for j in range(self.k)])\n",
        "\n",
        "            #Checking for convergence\n",
        "            '''\n",
        "            If centroids don’t change much (tol = small threshold),we stop iterating.\n",
        "\n",
        "            This ensures that the algorithm stops when clusters are stable.\n",
        "            '''\n",
        "            if np.all(np.abs(new_centroids - self.centroids) < self.tol):\n",
        "                break\n",
        "\n",
        "            self.centroids = new_centroids  # Update centroids and the loop continues\n",
        "\n",
        "    def predict(self, X):\n",
        "        return np.array([np.argmin([np.linalg.norm(x - c) for c in self.centroids]) for x in X])\n",
        "\n",
        "    def find_optimal_k(self, X):\n",
        "        \"\"\" Automatically find the best k using the Elbow Method & Knee Point \"\"\"\n",
        "        wcss = [] # Within-Cluster Sum of Squares\n",
        "        for k in range(1, self.max_k + 1):\n",
        "            kmeans = KMeansFromScratch(k=k, auto_k=False)  #Run K-Means manually\n",
        "            kmeans.fit(X)\n",
        "            wcss.append(sum(np.linalg.norm(X[kmeans.labels == j] - kmeans.centroids[j]) ** 2 for j in range(k)))\n",
        "\n",
        "        return self.knee_locator(range(1, self.max_k + 1), wcss)\n",
        "\n",
        "    @staticmethod\n",
        "    def knee_locator(x, y):\n",
        "        \"\"\" Finding the 'knee' point (elbow) in the WCSS graph \"\"\"\n",
        "        x, y = np.array(x), np.array(y)\n",
        "        # Computing second derivative (curvature)\n",
        "        diff = np.gradient(y, edge_order=2)\n",
        "        elbow_index = np.argmin(diff) + 1  # Adding 1 to match k index\n",
        "        return x[elbow_index]\n",
        "\n",
        "    def plot_elbow(self, X):\n",
        "        \"\"\"Plot WCSS vs. k to visualize the Elbow Method \"\"\"\n",
        "        wcss = []\n",
        "        for k in range(1, self.max_k + 1):\n",
        "            kmeans = KMeansFromScratch(k=k, auto_k=False) #trying it on various songs\n",
        "            kmeans.fit(X) #fitting the data on that k\n",
        "            '''WCSS the sum of squared distances from each point to its assigned cluster center.'''\n",
        "            wcss.append(inertia(X, kmeans.labels, kmeans.centroids)) #appending the squared distances variance\n",
        "\n",
        "        best_k = self.knee_locator(range(1, self.max_k + 1), wcss)\n",
        "\n",
        "        plt.figure(figsize=(8, 5))\n",
        "        plt.plot(range(1, self.max_k + 1), wcss, marker='o', linestyle='--', color='b')\n",
        "        plt.xlabel('Number of Clusters (k)')\n",
        "        plt.ylabel('WCSS (Within-Cluster Sum of Squares)')\n",
        "        plt.title('Elbow Method for Optimal K')\n",
        "        plt.axvline(x=best_k, linestyle='--', color='r', label=f'Optimal K = {best_k}')\n",
        "        plt.legend()\n",
        "        plt.show()\n",
        "        print(f\"Optimal K found: {best_k}\")\n"
      ]
    },
    {
      "cell_type": "markdown",
      "source": [
        "**<h3>Inertia</h3>**\n",
        "\n",
        "Inertia is calculated by measuring the distance between a datapoint and its centroid, squaring the distance and summing those squares for each data point in the cluster. The sum or inertial value is the intracluster distance. The lower the sum the better because it means that the datapoints within the cluster are compact or more similar."
      ],
      "metadata": {
        "id": "2vcfpe2FZ5nX"
      }
    },
    {
      "cell_type": "code",
      "source": [
        "def inertia(X, labels, centroids):\n",
        "    \"\"\"Within-Cluster Sum of Squares (WCSS) is also known as inertia that require\n",
        "    Cluster labels for each sample and coordinates of cluster centers (k, n_features)\n",
        "\n",
        "    \"\"\"\n",
        "    k = centroids.shape[0]\n",
        "    total_wcss = 0.0\n",
        "\n",
        "    for j in range(k):\n",
        "        cluster_points = X[labels == j]\n",
        "        distances = np.linalg.norm(cluster_points - centroids[j], axis=1)  # Euclidean distances\n",
        "        total_wcss += np.sum(distances ** 2) #sqauring the sum\n",
        "\n",
        "    return total_wcss"
      ],
      "metadata": {
        "id": "_mKbpY_NZ5I9"
      },
      "execution_count": 28,
      "outputs": []
    },
    {
      "cell_type": "code",
      "source": [
        "models = {}\n",
        "labels = {}\n",
        "centroids = {}\n",
        "\n",
        "for lang in list_of_languages:\n",
        "    lang=lang.lower()\n",
        "    songs_scaled = globals()[lang + \"_songs_scaled\"]  # access variable like hindi_songs_scaled\n",
        "    # Create the model (auto-selecting optimal k using elbow method)\n",
        "    model = KMeansFromScratch(auto_k=True)\n",
        "    #Visualising elbow plot\n",
        "    model.plot_elbow(songs_scaled)\n",
        "    model.fit(songs_scaled) #Fit the model to different scaled languages song data\n",
        "\n",
        "    #Getting labels and centroids\n",
        "    models[lang] = model\n",
        "    labels[lang] = model.labels\n",
        "    centroids[lang] = model.centroids\n",
        "\n",
        "    #Printing 10 sample cluster assignments\n",
        "    print(f\"{lang.title()} Sample Labels:\", model.labels[:10])\n",
        "    print(f\"{lang.title()} Centroids Shape:\", model.centroids.shape)\n"
      ],
      "metadata": {
        "colab": {
          "base_uri": "https://localhost:8080/",
          "height": 1000
        },
        "id": "cpr8FPMUl6cR",
        "outputId": "23bb7540-c265-401e-d762-b77a07568806"
      },
      "execution_count": 29,
      "outputs": [
        {
          "output_type": "display_data",
          "data": {
            "text/plain": [
              "<Figure size 800x500 with 1 Axes>"
            ],
            "image/png": "[encoded data removed]"
          },
          "metadata": {}
        },
        {
          "output_type": "stream",
          "name": "stdout",
          "text": [
            "Optimal K found: 2\n",
            "Tamil Sample Labels: [0 0 0 0 0 0 0 0 0 0]\n",
            "Tamil Centroids Shape: (2, 2)\n"
          ]
        },
        {
          "output_type": "display_data",
          "data": {
            "text/plain": [
              "<Figure size 800x500 with 1 Axes>"
            ],
            "image/png": "[encoded data removed]"
          },
          "metadata": {}
        },
        {
          "output_type": "stream",
          "name": "stdout",
          "text": [
            "Optimal K found: 2\n",
            "English Sample Labels: [1 0 0 1 1 1 0 1 1 1]\n",
            "English Centroids Shape: (2, 2)\n"
          ]
        },
        {
          "output_type": "display_data",
          "data": {
            "text/plain": [
              "<Figure size 800x500 with 1 Axes>"
            ],
            "image/png": "[encoded data removed]"
          },
          "metadata": {}
        },
        {
          "output_type": "stream",
          "name": "stdout",
          "text": [
            "Optimal K found: 2\n",
            "Hindi Sample Labels: [1 1 1 0 0 1 0 1 1 1]\n",
            "Hindi Centroids Shape: (2, 2)\n"
          ]
        },
        {
          "output_type": "display_data",
          "data": {
            "text/plain": [
              "<Figure size 800x500 with 1 Axes>"
            ],
            "image/png": "[encoded data removed]"
          },
          "metadata": {}
        },
        {
          "output_type": "stream",
          "name": "stdout",
          "text": [
            "Optimal K found: 2\n",
            "Unknown Sample Labels: [1 0 0 1 1 1 1 1 1 1]\n",
            "Unknown Centroids Shape: (2, 2)\n"
          ]
        },
        {
          "output_type": "stream",
          "name": "stderr",
          "text": [
            "<ipython-input-26-52ff6b0e1c37>:15: RuntimeWarning: invalid value encountered in divide\n",
            "  probabilities=distances/distances.sum()\n"
          ]
        },
        {
          "output_type": "error",
          "ename": "ValueError",
          "evalue": "probabilities contain NaN",
          "traceback": [
            "\u001b[0;31m---------------------------------------------------------------------------\u001b[0m",
            "\u001b[0;31mValueError\u001b[0m                                Traceback (most recent call last)",
            "\u001b[0;32m<ipython-input-29-30b600047126>\u001b[0m in \u001b[0;36m<cell line: 0>\u001b[0;34m()\u001b[0m\n\u001b[1;32m      9\u001b[0m     \u001b[0mmodel\u001b[0m \u001b[0;34m=\u001b[0m \u001b[0mKMeansFromScratch\u001b[0m\u001b[0;34m(\u001b[0m\u001b[0mauto_k\u001b[0m\u001b[0;34m=\u001b[0m\u001b[0;32mTrue\u001b[0m\u001b[0;34m)\u001b[0m\u001b[0;34m\u001b[0m\u001b[0;34m\u001b[0m\u001b[0m\n\u001b[1;32m     10\u001b[0m     \u001b[0;31m#Visualising elbow plot\u001b[0m\u001b[0;34m\u001b[0m\u001b[0;34m\u001b[0m\u001b[0m\n\u001b[0;32m---> 11\u001b[0;31m     \u001b[0mmodel\u001b[0m\u001b[0;34m.\u001b[0m\u001b[0mplot_elbow\u001b[0m\u001b[0;34m(\u001b[0m\u001b[0msongs_scaled\u001b[0m\u001b[0;34m)\u001b[0m\u001b[0;34m\u001b[0m\u001b[0;34m\u001b[0m\u001b[0m\n\u001b[0m\u001b[1;32m     12\u001b[0m     \u001b[0mmodel\u001b[0m\u001b[0;34m.\u001b[0m\u001b[0mfit\u001b[0m\u001b[0;34m(\u001b[0m\u001b[0msongs_scaled\u001b[0m\u001b[0;34m)\u001b[0m \u001b[0;31m#Fit the model to different scaled languages song data\u001b[0m\u001b[0;34m\u001b[0m\u001b[0;34m\u001b[0m\u001b[0m\n\u001b[1;32m     13\u001b[0m \u001b[0;34m\u001b[0m\u001b[0m\n",
            "\u001b[0;32m<ipython-input-27-3232f6200380>\u001b[0m in \u001b[0;36mplot_elbow\u001b[0;34m(self, X)\u001b[0m\n\u001b[1;32m     76\u001b[0m         \u001b[0;32mfor\u001b[0m \u001b[0mk\u001b[0m \u001b[0;32min\u001b[0m \u001b[0mrange\u001b[0m\u001b[0;34m(\u001b[0m\u001b[0;36m1\u001b[0m\u001b[0;34m,\u001b[0m \u001b[0mself\u001b[0m\u001b[0;34m.\u001b[0m\u001b[0mmax_k\u001b[0m \u001b[0;34m+\u001b[0m \u001b[0;36m1\u001b[0m\u001b[0;34m)\u001b[0m\u001b[0;34m:\u001b[0m\u001b[0;34m\u001b[0m\u001b[0;34m\u001b[0m\u001b[0m\n\u001b[1;32m     77\u001b[0m             \u001b[0mkmeans\u001b[0m \u001b[0;34m=\u001b[0m \u001b[0mKMeansFromScratch\u001b[0m\u001b[0;34m(\u001b[0m\u001b[0mk\u001b[0m\u001b[0;34m=\u001b[0m\u001b[0mk\u001b[0m\u001b[0;34m,\u001b[0m \u001b[0mauto_k\u001b[0m\u001b[0;34m=\u001b[0m\u001b[0;32mFalse\u001b[0m\u001b[0;34m)\u001b[0m \u001b[0;31m#trying it on various songs\u001b[0m\u001b[0;34m\u001b[0m\u001b[0;34m\u001b[0m\u001b[0m\n\u001b[0;32m---> 78\u001b[0;31m             \u001b[0mkmeans\u001b[0m\u001b[0;34m.\u001b[0m\u001b[0mfit\u001b[0m\u001b[0;34m(\u001b[0m\u001b[0mX\u001b[0m\u001b[0;34m)\u001b[0m \u001b[0;31m#fitting the data on that k\u001b[0m\u001b[0;34m\u001b[0m\u001b[0;34m\u001b[0m\u001b[0m\n\u001b[0m\u001b[1;32m     79\u001b[0m             \u001b[0;34m'''WCSS the sum of squared distances from each point to its assigned cluster center.'''\u001b[0m\u001b[0;34m\u001b[0m\u001b[0;34m\u001b[0m\u001b[0m\n\u001b[1;32m     80\u001b[0m             \u001b[0mwcss\u001b[0m\u001b[0;34m.\u001b[0m\u001b[0mappend\u001b[0m\u001b[0;34m(\u001b[0m\u001b[0minertia\u001b[0m\u001b[0;34m(\u001b[0m\u001b[0mX\u001b[0m\u001b[0;34m,\u001b[0m \u001b[0mkmeans\u001b[0m\u001b[0;34m.\u001b[0m\u001b[0mlabels\u001b[0m\u001b[0;34m,\u001b[0m \u001b[0mkmeans\u001b[0m\u001b[0;34m.\u001b[0m\u001b[0mcentroids\u001b[0m\u001b[0;34m)\u001b[0m\u001b[0;34m)\u001b[0m \u001b[0;31m#appending the squared distances variance\u001b[0m\u001b[0;34m\u001b[0m\u001b[0;34m\u001b[0m\u001b[0m\n",
            "\u001b[0;32m<ipython-input-27-3232f6200380>\u001b[0m in \u001b[0;36mfit\u001b[0;34m(self, X)\u001b[0m\n\u001b[1;32m     20\u001b[0m \u001b[0;34m\u001b[0m\u001b[0m\n\u001b[1;32m     21\u001b[0m         \u001b[0;31m# Using K-Means++ for better initialisation\u001b[0m\u001b[0;34m\u001b[0m\u001b[0;34m\u001b[0m\u001b[0m\n\u001b[0;32m---> 22\u001b[0;31m         \u001b[0mself\u001b[0m\u001b[0;34m.\u001b[0m\u001b[0mcentroids\u001b[0m \u001b[0;34m=\u001b[0m \u001b[0mkmeans_plus_plus\u001b[0m\u001b[0;34m(\u001b[0m\u001b[0mX\u001b[0m\u001b[0;34m,\u001b[0m \u001b[0mself\u001b[0m\u001b[0;34m.\u001b[0m\u001b[0mk\u001b[0m\u001b[0;34m)\u001b[0m\u001b[0;34m\u001b[0m\u001b[0;34m\u001b[0m\u001b[0m\n\u001b[0m\u001b[1;32m     23\u001b[0m \u001b[0;34m\u001b[0m\u001b[0m\n\u001b[1;32m     24\u001b[0m         \u001b[0;32mfor\u001b[0m \u001b[0mi\u001b[0m \u001b[0;32min\u001b[0m \u001b[0mrange\u001b[0m\u001b[0;34m(\u001b[0m\u001b[0mself\u001b[0m\u001b[0;34m.\u001b[0m\u001b[0mmax_iters\u001b[0m\u001b[0;34m)\u001b[0m\u001b[0;34m:\u001b[0m\u001b[0;34m\u001b[0m\u001b[0;34m\u001b[0m\u001b[0m\n",
            "\u001b[0;32m<ipython-input-26-52ff6b0e1c37>\u001b[0m in \u001b[0;36mkmeans_plus_plus\u001b[0;34m(X, k)\u001b[0m\n\u001b[1;32m     14\u001b[0m         \u001b[0;31m#Choosing next centroid on the basis of probability proportional to distance²\u001b[0m\u001b[0;34m\u001b[0m\u001b[0;34m\u001b[0m\u001b[0m\n\u001b[1;32m     15\u001b[0m         \u001b[0mprobabilities\u001b[0m\u001b[0;34m=\u001b[0m\u001b[0mdistances\u001b[0m\u001b[0;34m/\u001b[0m\u001b[0mdistances\u001b[0m\u001b[0;34m.\u001b[0m\u001b[0msum\u001b[0m\u001b[0;34m(\u001b[0m\u001b[0;34m)\u001b[0m\u001b[0;34m\u001b[0m\u001b[0;34m\u001b[0m\u001b[0m\n\u001b[0;32m---> 16\u001b[0;31m         \u001b[0mnew_centroid_index\u001b[0m\u001b[0;34m=\u001b[0m\u001b[0mnp\u001b[0m\u001b[0;34m.\u001b[0m\u001b[0mrandom\u001b[0m\u001b[0;34m.\u001b[0m\u001b[0mchoice\u001b[0m\u001b[0;34m(\u001b[0m\u001b[0mn_samples\u001b[0m\u001b[0;34m,\u001b[0m\u001b[0mp\u001b[0m\u001b[0;34m=\u001b[0m\u001b[0mprobabilities\u001b[0m\u001b[0;34m)\u001b[0m\u001b[0;34m\u001b[0m\u001b[0;34m\u001b[0m\u001b[0m\n\u001b[0m\u001b[1;32m     17\u001b[0m \u001b[0;34m\u001b[0m\u001b[0m\n\u001b[1;32m     18\u001b[0m         \u001b[0;31m# Adding the new centroid\u001b[0m\u001b[0;34m\u001b[0m\u001b[0;34m\u001b[0m\u001b[0m\n",
            "\u001b[0;32mnumpy/random/mtrand.pyx\u001b[0m in \u001b[0;36mnumpy.random.mtrand.RandomState.choice\u001b[0;34m()\u001b[0m\n",
            "\u001b[0;31mValueError\u001b[0m: probabilities contain NaN"
          ]
        }
      ]
    },
    {
      "cell_type": "code",
      "source": [
        "# #Create the model (auto-selecting optimal k using elbow method)\n",
        "# model = KMeansFromScratch(auto_k=True, max_k=10)\n",
        "\n",
        "# #(Optional) Visualize elbow plot\n",
        "# model.plot_elbow(songs_scaled)\n",
        "\n",
        "# #Fit the model to the scaled Hindi song data\n",
        "# model.fit(songs_scaled)\n",
        "\n",
        "# #Getting labels and centroids\n",
        "# hindi_labels = model.labels\n",
        "# hindi_centroids = model.centroids\n",
        "\n",
        "# # Print sample cluster assignments\n",
        "# print(\"Sample Cluster Labels:\", hindi_labels[:10])\n",
        "# print(\"Centroids Shape:\", hindi_centroids.shape)\n"
      ],
      "metadata": {
        "id": "GP8hvEa5bhVs"
      },
      "execution_count": 30,
      "outputs": []
    },
    {
      "cell_type": "markdown",
      "source": [
        "**<h1>Song Recommender**"
      ],
      "metadata": {
        "id": "CVTARI2ZQEWA"
      }
    },
    {
      "cell_type": "code",
      "source": [
        "from sklearn.metrics.pairwise import cosine_similarity"
      ],
      "metadata": {
        "id": "Ri4mPYhyQZdR"
      },
      "execution_count": 31,
      "outputs": []
    },
    {
      "cell_type": "code",
      "source": [
        "import re"
      ],
      "metadata": {
        "id": "wiBFQp1SJMZq"
      },
      "execution_count": 32,
      "outputs": []
    },
    {
      "cell_type": "code",
      "source": [
        "from IPython.display import Image, display #to display artwork url"
      ],
      "metadata": {
        "id": "YJQ6PcwlVwZd"
      },
      "execution_count": 33,
      "outputs": []
    },
    {
      "cell_type": "code",
      "source": [
        "class SongRecommender:\n",
        "    def __init__(self, data, song_names,model):\n",
        "        self.data = data\n",
        "        self.song_names = song_names\n",
        "        self.model = model\n",
        "        self.labels = model.labels\n",
        "\n",
        "    def _normalise_name(self, name):\n",
        "        name = name.lower().strip()\n",
        "        name = re.sub(r'\\(.*?\\)', '', name).strip()\n",
        "        return name\n",
        "\n",
        "    def recommend(self, input_song_vector, input_song_name=None, n=7, language=None, indices_by_language=None,original_indices=None):\n",
        "        input_cluster = np.argmin([\n",
        "            np.linalg.norm(input_song_vector - c)\n",
        "            for c in self.model.centroids\n",
        "        ])\n",
        "        print(f\"🎯 Input song belongs to cluster: {input_cluster}\")\n",
        "\n",
        "        cluster_indices = np.where(self.labels == input_cluster)[0]\n",
        "        cluster_songs = self.data[cluster_indices]\n",
        "\n",
        "        similarities = cosine_similarity([input_song_vector], cluster_songs)[0]\n",
        "        sorted_indices = np.argsort(similarities)[::-1]\n",
        "\n",
        "        top_n_indices = []\n",
        "        input_name_norm = self._normalise_name(input_song_name) if input_song_name else \"\"\n",
        "\n",
        "        for i in sorted_indices:\n",
        "            idx = cluster_indices[i]\n",
        "            selected_song_name = self.song_names[idx]\n",
        "            selected_song_name_norm = self._normalise_name(selected_song_name)\n",
        "\n",
        "            if input_song_name and selected_song_name_norm == input_name_norm:\n",
        "                continue\n",
        "\n",
        "            top_n_indices.append(idx)\n",
        "            if len(top_n_indices) == n:\n",
        "                break\n",
        "\n",
        "        print(f\"\\n🎵 Top {n} recommendations:\")\n",
        "        recommendations = []\n",
        "\n",
        "        if original_indices is None:\n",
        "         raise ValueError(\"Missing original indices for mapping back to full dataset.\")\n",
        "\n",
        "        for idx in top_n_indices:\n",
        "            original_idx = original_indices[idx]  #Dynamic lookup\n",
        "            name = self.song_names[idx]\n",
        "            artist = original_data.loc[original_idx, 'artist_name']\n",
        "            track_url = original_data.loc[original_idx, 'track_url']\n",
        "            artwork_url = original_data.loc[original_idx, 'artwork_url']\n",
        "            language = original_data.loc[original_idx, 'language']\n",
        "\n",
        "            sim_score = cosine_similarity([input_song_vector], [self.data[idx]])[0][0]\n",
        "\n",
        "            print(f\"- {name} by {artist} (Similarity: {sim_score:.4f})\")\n",
        "            print(f\"  🎧 Track URL: {track_url}\")\n",
        "            display(Image(url=artwork_url, width=100))\n",
        "            print(f\"  🌐 Language: {language}\\n\")\n",
        "\n",
        "            recommendations.append({\n",
        "                \"name\": name,\n",
        "                \"artist\": artist,\n",
        "                \"similarity\": sim_score,\n",
        "                \"track_url\": track_url,\n",
        "                \"artwork_url\": artwork_url\n",
        "            })\n",
        "\n",
        "        return recommendations\n"
      ],
      "metadata": {
        "id": "mt-Z5t5brLIc"
      },
      "execution_count": 34,
      "outputs": []
    },
    {
      "cell_type": "code",
      "source": [
        "song_names = original_data[\"track_name\"].tolist()"
      ],
      "metadata": {
        "id": "Km88tCMZPcg1"
      },
      "execution_count": 35,
      "outputs": []
    },
    {
      "cell_type": "markdown",
      "source": [
        "**<h4>Making it dynamic**"
      ],
      "metadata": {
        "id": "ypKqmej0deIE"
      }
    },
    {
      "cell_type": "code",
      "source": [
        "user_language = input(\"Enter your language preference(english, hindi, tamil,korean,unknown): \").strip().lower()\n",
        "# Get indices of user_language songs in original_data\n",
        "user_language_mask = original_data['language'].str.lower() == user_language\n",
        "user_language_indices = original_data[user_language_mask].index.to_numpy()\n",
        "# user_language_indices = original_data[original_data['language'].str.contains(user_language, case=False, na=False)].index\n",
        "\n",
        "\n",
        "song_names_user_language = [song_names[i] for i in user_language_indices]  # Keep song names aligned"
      ],
      "metadata": {
        "colab": {
          "base_uri": "https://localhost:8080/"
        },
        "id": "zBTWVVleddTh",
        "outputId": "4ba2f46b-dfc4-49b6-d72a-818952f33a11"
      },
      "execution_count": 39,
      "outputs": [
        {
          "name": "stdout",
          "output_type": "stream",
          "text": [
            "Enter your language preference(english, hindi, tamil,korean,unknown): hindi\n"
          ]
        }
      ]
    },
    {
      "cell_type": "code",
      "source": [
        "# Match song in filtered language names\n",
        "\n",
        "user_input = input(\"Enter a song name: \").strip().lower()\n",
        "matching_indices = [i for i, name in enumerate(song_names_user_language) if name.strip().lower() == user_input] #matches indices in language\n",
        "\n",
        "if not matching_indices:\n",
        "    print(\"Song not found in specified dataset.\")\n",
        "else:\n",
        "    songs_scaled = globals()[user_language + \"_songs_scaled\"]\n",
        "\n",
        "    input_index = matching_indices[0]\n",
        "    input_song_vector = songs_scaled[input_index]  # <- Using original scaled vector\n",
        "\n",
        "    # Recommender should also use songs_scaled (not data_pca)\n",
        "    recommender = SongRecommender(songs_scaled, song_names_user_language, models[user_language])\n",
        "    recommender.recommend(input_song_vector, song_names_user_language[input_index], n=7,original_indices=user_language_indices)"
      ],
      "metadata": {
        "id": "W9O6ldgcDMPR",
        "outputId": "379c46e1-5716-4eb8-8fb7-864c4d361f71",
        "colab": {
          "base_uri": "https://localhost:8080/",
          "height": 1000
        }
      },
      "execution_count": 40,
      "outputs": [
        {
          "output_type": "stream",
          "name": "stdout",
          "text": [
            "Enter a song name: soch na sake\n",
            "🎯 Input song belongs to cluster: 0\n",
            "\n",
            "🎵 Top 7 recommendations:\n",
            "- Junooni by Arijit Singh, Yashita Sharma (Similarity: 1.0000)\n",
            "  🎧 Track URL: https://open.spotify.com/track/3ZvOTsMNv39Zq73i2HHL2H\n"
          ]
        },
        {
          "output_type": "display_data",
          "data": {
            "text/html": [
              "<img src=\"https://i.scdn.co/image/ab67616d0000b273957e763d9f07dd8b5453b10f\" width=\"100\"/>"
            ],
            "text/plain": [
              "<IPython.core.display.Image object>"
            ]
          },
          "metadata": {}
        },
        {
          "output_type": "stream",
          "name": "stdout",
          "text": [
            "  🌐 Language: Hindi\n",
            "\n",
            "- Roke Na Ruke Naina (From \"Badrinath Ki Dulhania\") by Arijit Singh (Similarity: 1.0000)\n",
            "  🎧 Track URL: https://open.spotify.com/track/6DBVELTPG2MCS1L3DlDXbi\n"
          ]
        },
        {
          "output_type": "display_data",
          "data": {
            "text/html": [
              "<img src=\"https://i.scdn.co/image/ab67616d0000b273c486f7fc6299f158d632e613\" width=\"100\"/>"
            ],
            "text/plain": [
              "<IPython.core.display.Image object>"
            ]
          },
          "metadata": {}
        },
        {
          "output_type": "stream",
          "name": "stdout",
          "text": [
            "  🌐 Language: Hindi\n",
            "\n",
            "- Halla by Amit Trivedi, Shellee, Jyoti Nooran, Romy (Similarity: 1.0000)\n",
            "  🎧 Track URL: https://open.spotify.com/track/1LrLUMPWyapk4g8IQbQHHv\n"
          ]
        },
        {
          "output_type": "display_data",
          "data": {
            "text/html": [
              "<img src=\"https://i.scdn.co/image/ab67616d0000b273940f28c3373e204700c21d4a\" width=\"100\"/>"
            ],
            "text/plain": [
              "<IPython.core.display.Image object>"
            ]
          },
          "metadata": {}
        },
        {
          "output_type": "stream",
          "name": "stdout",
          "text": [
            "  🌐 Language: Hindi\n",
            "\n",
            "- Khali Khali by Mohit Chauhan (Similarity: 1.0000)\n",
            "  🎧 Track URL: https://open.spotify.com/track/3eSfEXIZ3SNmqtwt8hQu0x\n"
          ]
        },
        {
          "output_type": "display_data",
          "data": {
            "text/html": [
              "<img src=\"https://i.scdn.co/image/ab67616d0000b27303c61ee1e61582abf0462ffa\" width=\"100\"/>"
            ],
            "text/plain": [
              "<IPython.core.display.Image object>"
            ]
          },
          "metadata": {}
        },
        {
          "output_type": "stream",
          "name": "stdout",
          "text": [
            "  🌐 Language: Hindi\n",
            "\n",
            "- Priye Tamaro Prem No by Javed Ali (Similarity: 1.0000)\n",
            "  🎧 Track URL: https://open.spotify.com/track/6ztr7HN4tZsKJ4dGsDMUcs\n"
          ]
        },
        {
          "output_type": "display_data",
          "data": {
            "text/html": [
              "<img src=\"https://i.scdn.co/image/ab67616d0000b2733105c8ed07b4623f92c2e17b\" width=\"100\"/>"
            ],
            "text/plain": [
              "<IPython.core.display.Image object>"
            ]
          },
          "metadata": {}
        },
        {
          "output_type": "stream",
          "name": "stdout",
          "text": [
            "  🌐 Language: Hindi\n",
            "\n",
            "- Ishaqzaade - Violin Version (Instrumental) by Amit Trivedi, Kausar Munir (Similarity: 1.0000)\n",
            "  🎧 Track URL: https://open.spotify.com/track/5U0T0fd4sYM6pETLYCyAKr\n"
          ]
        },
        {
          "output_type": "display_data",
          "data": {
            "text/html": [
              "<img src=\"https://i.scdn.co/image/ab67616d0000b2736c44926d053b033447e4e710\" width=\"100\"/>"
            ],
            "text/plain": [
              "<IPython.core.display.Image object>"
            ]
          },
          "metadata": {}
        },
        {
          "output_type": "stream",
          "name": "stdout",
          "text": [
            "  🌐 Language: Hindi\n",
            "\n",
            "- Priye Tamaro Prem No by Javed Ali (Similarity: 1.0000)\n",
            "  🎧 Track URL: https://open.spotify.com/track/7nnfJ4H2rdLF6GwklYZvHy\n"
          ]
        },
        {
          "output_type": "display_data",
          "data": {
            "text/html": [
              "<img src=\"https://i.scdn.co/image/ab67616d0000b273d4c54e450e2bbc3d5714d78c\" width=\"100\"/>"
            ],
            "text/plain": [
              "<IPython.core.display.Image object>"
            ]
          },
          "metadata": {}
        },
        {
          "output_type": "stream",
          "name": "stdout",
          "text": [
            "  🌐 Language: Hindi\n",
            "\n"
          ]
        }
      ]
    },
    {
      "cell_type": "markdown",
      "source": [
        "Attempting to use a Spotify to fetch song features"
      ],
      "metadata": {
        "id": "0_4fmTldCfLB"
      }
    },
    {
      "cell_type": "code",
      "source": [
        "# !pip install spotipy\n",
        "# sp = spotipy.Spotify(auth_manager=SpotifyClientCredentials(\n",
        "#     client_id=\"14afb9597ff44b7eb738481d32b360a9\",\n",
        "#     client_secret=\"886a499f6c244dc58850572116a65b32\"\n",
        "# ))\n",
        "\n",
        "# def get_audio_features_from_spotify(song_name):\n",
        "#     results = sp.search(q=song_name, type='track', limit=1)\n",
        "#     if not results['tracks']['items']:\n",
        "#         return None\n",
        "#     track = results['tracks']['items'][0]\n",
        "#     features = sp.audio_features(track['id'])[0]\n",
        "#     return features\n",
        "\n",
        "# def preprocess_features(raw_features, scaler=None):\n",
        "#     features_used = [\n",
        "#         'acousticness', 'danceability', 'duration_ms', 'energy',\n",
        "#         'instrumentalness', 'key', 'liveness', 'loudness', 'mode',\n",
        "#         'speechiness', 'tempo', 'time_signature', 'valence'\n",
        "#     ]\n",
        "#     feature_vector = [raw_features[feat] for feat in features_used]\n",
        "#     return scaler.transform([feature_vector])[0] if scaler else feature_vector\n"
      ],
      "metadata": {
        "id": "XIyzMYIFFoYW"
      },
      "execution_count": 41,
      "outputs": []
    },
    {
      "cell_type": "code",
      "source": [
        "# #Handle both known and unknown songs\n",
        "# if not matching_indices:\n",
        "#     print(\"🔍 Song not found in the dataset.\")\n",
        "\n",
        "#     # if user_language == \"unknown\":\n",
        "#     #     print(\"📡 Fetching song features from Spotify...\")\n",
        "#     #     raw_features = get_audio_features_from_spotify(user_input)\n",
        "\n",
        "#     #     if raw_features is not None:\n",
        "#     #         input_song_vector = preprocess_features(raw_features, scaler=your_scaler)\n",
        "\n",
        "#     #         recommender = SongRecommender(songs_scaled, song_names_user_language, model)\n",
        "#     #         recommender.recommend(\n",
        "#     #             input_song_vector,\n",
        "#     #             input_song_name=user_input,\n",
        "#     #             n=7,\n",
        "#     #             original_indices=user_language_indices\n",
        "#     #         )\n",
        "#     #     else:\n",
        "#     #         print(\"❌ Could not fetch song from Spotify.\")\n",
        "#     # else:\n",
        "#     #     print(\"⚠️ Song not found in specified dataset.\")\n",
        "# else:\n",
        "#     # Use dataset vector normally\n",
        "#     input_index = matching_indices[0]\n",
        "#     input_song_vector = songs_scaled[input_index]\n",
        "\n",
        "#     recommender = SongRecommender(songs_scaled, song_names_user_language, model)\n",
        "#     recommender.recommend(\n",
        "#         input_song_vector,\n",
        "#         song_names_user_language[input_index],\n",
        "#         n=7,\n",
        "#         original_indices=user_language_indices\n",
        "#     )\n"
      ],
      "metadata": {
        "id": "NLZZsKmievt2"
      },
      "execution_count": 42,
      "outputs": []
    },
    {
      "cell_type": "markdown",
      "source": [
        "2. **Optimum number of clusters improves the accuracy**\n",
        "\n",
        " It measures the euclidean distance between each data point and its cluster center and chooses the number of clusters based on where change in “within cluster sum of squares” (WCSS) levels off. This value represents the total variance within each cluster that gets plotted against the number of clusters. ***Best K is where the curve forms an elbow (sudden drop, then flattening).***"
      ],
      "metadata": {
        "id": "3phEzZt-YQMK"
      }
    },
    {
      "cell_type": "code",
      "source": [],
      "metadata": {
        "id": "iUWfaUDTYRwq"
      },
      "execution_count": 42,
      "outputs": []
    },
    {
      "cell_type": "markdown",
      "source": [
        "\n",
        "\n",
        "---\n",
        "\n"
      ],
      "metadata": {
        "id": "hDgUsaiLSyZw"
      }
    },
    {
      "cell_type": "markdown",
      "source": [
        " **<h1> Cluster Evaluation Metrics </h1>**\n",
        "\n",
        "1. All data points within a cluster should be similar.\n",
        "\n",
        "2. Clusters should be distinct from each other.\n",
        "\n",
        "The goal of the k-means clustering algorithm is to minimize the sum of squared errors (SSE)"
      ],
      "metadata": {
        "id": "UMqNuFRta4CE"
      }
    },
    {
      "cell_type": "markdown",
      "source": [
        "**<h3>The Dunn index</h3>**\n",
        "\n",
        "The second property is measured with the Dunn index. The Dunn index represents the relationship between the minimum intercluster distance and the maximum intracluster distance. Clusters with a high intercluster distance indicate better quality because it means that the clusters are as different from each other as possible.\n",
        "\n",
        "Higher Dunn Index means better clustering such that clusters that are:Tight (low intra-cluster diameter) and Well-separated (high inter-cluster distance)"
      ],
      "metadata": {
        "id": "lSePdDZPbCoL"
      }
    },
    {
      "cell_type": "code",
      "source": [
        "import numpy as np\n",
        "from scipy.spatial.distance import cdist\n",
        "\n",
        "def dunn_index(X, labels):\n",
        "    \"\"\"\n",
        "     Dunn Index score (higher is better)\n",
        "    \"\"\"\n",
        "    unique_labels = np.unique(labels)\n",
        "    k = len(unique_labels)\n",
        "    if k < 2:\n",
        "        return 0  # Not defined for fewer than 2 clusters\n",
        "\n",
        "    clusters = [X[labels == label] for label in unique_labels]\n",
        "\n",
        "    # Calculating intercluster distances (min pairwise distance between clusters)\n",
        "    min_intercluster_dist = np.inf\n",
        "    for i in range(k):\n",
        "        for j in range(i + 1, k):\n",
        "            dist = cdist(clusters[i], clusters[j])\n",
        "            min_dist = np.min(dist)\n",
        "            min_intercluster_dist = min(min_intercluster_dist, min_dist)\n",
        "\n",
        "    # Calculating intracluster diameters (max pairwise distance within each cluster)\n",
        "    max_intracluster_diam = 0\n",
        "    for cluster in clusters:\n",
        "        if len(cluster) >= 2:\n",
        "            diam = np.max(cdist(cluster, cluster))\n",
        "            max_intracluster_diam = max(max_intracluster_diam, diam)\n",
        "\n",
        "    if max_intracluster_diam == 0:\n",
        "        return 0\n",
        "\n",
        "    return min_intercluster_dist/max_intracluster_diam\n"
      ],
      "metadata": {
        "id": "8gCY0f9dGZZD"
      },
      "execution_count": 43,
      "outputs": []
    },
    {
      "cell_type": "code",
      "source": [
        "def plot_dunn_index_vs_k(X, max_k=6):\n",
        "    from sklearn.cluster import KMeans  # or use your custom KMeansFromScratch\n",
        "    dunn_scores = []\n",
        "\n",
        "    for k in range(2, max_k + 1):  # Dunn Index is not defined for k=1\n",
        "        kmeans = KMeans(n_clusters=k, random_state=42)\n",
        "        kmeans.fit(X)\n",
        "        labels = kmeans.labels_\n",
        "\n",
        "        score = dunn_index(X, labels)\n",
        "        dunn_scores.append(score)\n",
        "\n",
        "        print(f\"K={k} → Dunn Index: {score:.4f}\")\n",
        "\n",
        "    # Plotting\n",
        "    plt.figure(figsize=(8, 5))\n",
        "    plt.plot(range(2, max_k + 1), dunn_scores, marker='o', color='green')\n",
        "    plt.title('Dunn Index vs Number of Clusters')\n",
        "    plt.xlabel('Number of Clusters (K)')\n",
        "    plt.ylabel('Dunn Index')\n",
        "    plt.grid(True)\n",
        "    plt.tight_layout()\n",
        "    plt.show()\n"
      ],
      "metadata": {
        "id": "KB-B69M-bDpN"
      },
      "execution_count": 44,
      "outputs": []
    },
    {
      "cell_type": "code",
      "source": [
        "plot_dunn_index_vs_k(hindi_songs_scaled, max_k=6)"
      ],
      "metadata": {
        "colab": {
          "base_uri": "https://localhost:8080/",
          "height": 596
        },
        "id": "DftBOh5IGWzj",
        "outputId": "f9edd6c7-b0c3-4bb9-b428-aba51e21ef7c"
      },
      "execution_count": 45,
      "outputs": [
        {
          "output_type": "stream",
          "name": "stdout",
          "text": [
            "K=2 → Dunn Index: 0.0049\n",
            "K=3 → Dunn Index: 0.0040\n",
            "K=4 → Dunn Index: 0.0060\n",
            "K=5 → Dunn Index: 0.0034\n",
            "K=6 → Dunn Index: 0.0041\n"
          ]
        },
        {
          "output_type": "display_data",
          "data": {
            "text/plain": [
              "<Figure size 800x500 with 1 Axes>"
            ],
            "image/png": "[encoded data removed]"
          },
          "metadata": {}
        }
      ]
    },
    {
      "cell_type": "code",
      "source": [
        "plot_dunn_index_vs_k(english_songs_scaled, max_k=6)"
      ],
      "metadata": {
        "colab": {
          "base_uri": "https://localhost:8080/",
          "height": 596
        },
        "id": "FuQ3AhImG147",
        "outputId": "869f6f45-312d-4e50-ad50-e3262cf75e6e"
      },
      "execution_count": 46,
      "outputs": [
        {
          "output_type": "stream",
          "name": "stdout",
          "text": [
            "K=2 → Dunn Index: 0.0099\n",
            "K=3 → Dunn Index: 0.0078\n",
            "K=4 → Dunn Index: 0.0156\n",
            "K=5 → Dunn Index: 0.0062\n",
            "K=6 → Dunn Index: 0.0108\n"
          ]
        },
        {
          "output_type": "display_data",
          "data": {
            "text/plain": [
              "<Figure size 800x500 with 1 Axes>"
            ],
            "image/png": "[encoded data removed]"
          },
          "metadata": {}
        }
      ]
    },
    {
      "cell_type": "code",
      "source": [
        "plot_dunn_index_vs_k(unknown_songs_scaled, max_k=6)"
      ],
      "metadata": {
        "colab": {
          "base_uri": "https://localhost:8080/",
          "height": 596
        },
        "id": "xF_e4cJ-G2Zn",
        "outputId": "2335253d-ed52-4c44-c458-fd1410b27323"
      },
      "execution_count": 47,
      "outputs": [
        {
          "output_type": "stream",
          "name": "stdout",
          "text": [
            "K=2 → Dunn Index: 0.0016\n",
            "K=3 → Dunn Index: 0.0010\n",
            "K=4 → Dunn Index: 0.0023\n",
            "K=5 → Dunn Index: 0.0011\n",
            "K=6 → Dunn Index: 0.0016\n"
          ]
        },
        {
          "output_type": "display_data",
          "data": {
            "text/plain": [
              "<Figure size 800x500 with 1 Axes>"
            ],
            "image/png": "[encoded data removed]"
          },
          "metadata": {}
        }
      ]
    },
    {
      "cell_type": "code",
      "source": [
        "plot_dunn_index_vs_k(korean_songs_scaled, max_k=6)"
      ],
      "metadata": {
        "colab": {
          "base_uri": "https://localhost:8080/",
          "height": 311
        },
        "id": "Owmuvtl9G22Z",
        "outputId": "2375fff8-ad8e-40a0-9d31-b6f997be66d2"
      },
      "execution_count": 48,
      "outputs": [
        {
          "output_type": "stream",
          "name": "stdout",
          "text": [
            "K=2 → Dunn Index: 0.0000\n"
          ]
        },
        {
          "output_type": "error",
          "ename": "ValueError",
          "evalue": "n_samples=2 should be >= n_clusters=3.",
          "traceback": [
            "\u001b[0;31m---------------------------------------------------------------------------\u001b[0m",
            "\u001b[0;31mValueError\u001b[0m                                Traceback (most recent call last)",
            "\u001b[0;32m<ipython-input-48-f15358e9eabb>\u001b[0m in \u001b[0;36m<cell line: 0>\u001b[0;34m()\u001b[0m\n\u001b[0;32m----> 1\u001b[0;31m \u001b[0mplot_dunn_index_vs_k\u001b[0m\u001b[0;34m(\u001b[0m\u001b[0mkorean_songs_scaled\u001b[0m\u001b[0;34m,\u001b[0m \u001b[0mmax_k\u001b[0m\u001b[0;34m=\u001b[0m\u001b[0;36m6\u001b[0m\u001b[0;34m)\u001b[0m\u001b[0;34m\u001b[0m\u001b[0;34m\u001b[0m\u001b[0m\n\u001b[0m",
            "\u001b[0;32m<ipython-input-44-982ecec02365>\u001b[0m in \u001b[0;36mplot_dunn_index_vs_k\u001b[0;34m(X, max_k)\u001b[0m\n\u001b[1;32m      5\u001b[0m     \u001b[0;32mfor\u001b[0m \u001b[0mk\u001b[0m \u001b[0;32min\u001b[0m \u001b[0mrange\u001b[0m\u001b[0;34m(\u001b[0m\u001b[0;36m2\u001b[0m\u001b[0;34m,\u001b[0m \u001b[0mmax_k\u001b[0m \u001b[0;34m+\u001b[0m \u001b[0;36m1\u001b[0m\u001b[0;34m)\u001b[0m\u001b[0;34m:\u001b[0m  \u001b[0;31m# Dunn Index is not defined for k=1\u001b[0m\u001b[0;34m\u001b[0m\u001b[0;34m\u001b[0m\u001b[0m\n\u001b[1;32m      6\u001b[0m         \u001b[0mkmeans\u001b[0m \u001b[0;34m=\u001b[0m \u001b[0mKMeans\u001b[0m\u001b[0;34m(\u001b[0m\u001b[0mn_clusters\u001b[0m\u001b[0;34m=\u001b[0m\u001b[0mk\u001b[0m\u001b[0;34m,\u001b[0m \u001b[0mrandom_state\u001b[0m\u001b[0;34m=\u001b[0m\u001b[0;36m42\u001b[0m\u001b[0;34m)\u001b[0m\u001b[0;34m\u001b[0m\u001b[0;34m\u001b[0m\u001b[0m\n\u001b[0;32m----> 7\u001b[0;31m         \u001b[0mkmeans\u001b[0m\u001b[0;34m.\u001b[0m\u001b[0mfit\u001b[0m\u001b[0;34m(\u001b[0m\u001b[0mX\u001b[0m\u001b[0;34m)\u001b[0m\u001b[0;34m\u001b[0m\u001b[0;34m\u001b[0m\u001b[0m\n\u001b[0m\u001b[1;32m      8\u001b[0m         \u001b[0mlabels\u001b[0m \u001b[0;34m=\u001b[0m \u001b[0mkmeans\u001b[0m\u001b[0;34m.\u001b[0m\u001b[0mlabels_\u001b[0m\u001b[0;34m\u001b[0m\u001b[0;34m\u001b[0m\u001b[0m\n\u001b[1;32m      9\u001b[0m \u001b[0;34m\u001b[0m\u001b[0m\n",
            "\u001b[0;32m/usr/local/lib/python3.11/dist-packages/sklearn/base.py\u001b[0m in \u001b[0;36mwrapper\u001b[0;34m(estimator, *args, **kwargs)\u001b[0m\n\u001b[1;32m   1387\u001b[0m                 )\n\u001b[1;32m   1388\u001b[0m             ):\n\u001b[0;32m-> 1389\u001b[0;31m                 \u001b[0;32mreturn\u001b[0m \u001b[0mfit_method\u001b[0m\u001b[0;34m(\u001b[0m\u001b[0mestimator\u001b[0m\u001b[0;34m,\u001b[0m \u001b[0;34m*\u001b[0m\u001b[0margs\u001b[0m\u001b[0;34m,\u001b[0m \u001b[0;34m**\u001b[0m\u001b[0mkwargs\u001b[0m\u001b[0;34m)\u001b[0m\u001b[0;34m\u001b[0m\u001b[0;34m\u001b[0m\u001b[0m\n\u001b[0m\u001b[1;32m   1390\u001b[0m \u001b[0;34m\u001b[0m\u001b[0m\n\u001b[1;32m   1391\u001b[0m         \u001b[0;32mreturn\u001b[0m \u001b[0mwrapper\u001b[0m\u001b[0;34m\u001b[0m\u001b[0;34m\u001b[0m\u001b[0m\n",
            "\u001b[0;32m/usr/local/lib/python3.11/dist-packages/sklearn/cluster/_kmeans.py\u001b[0m in \u001b[0;36mfit\u001b[0;34m(self, X, y, sample_weight)\u001b[0m\n\u001b[1;32m   1462\u001b[0m         )\n\u001b[1;32m   1463\u001b[0m \u001b[0;34m\u001b[0m\u001b[0m\n\u001b[0;32m-> 1464\u001b[0;31m         \u001b[0mself\u001b[0m\u001b[0;34m.\u001b[0m\u001b[0m_check_params_vs_input\u001b[0m\u001b[0;34m(\u001b[0m\u001b[0mX\u001b[0m\u001b[0;34m)\u001b[0m\u001b[0;34m\u001b[0m\u001b[0;34m\u001b[0m\u001b[0m\n\u001b[0m\u001b[1;32m   1465\u001b[0m \u001b[0;34m\u001b[0m\u001b[0m\n\u001b[1;32m   1466\u001b[0m         \u001b[0mrandom_state\u001b[0m \u001b[0;34m=\u001b[0m \u001b[0mcheck_random_state\u001b[0m\u001b[0;34m(\u001b[0m\u001b[0mself\u001b[0m\u001b[0;34m.\u001b[0m\u001b[0mrandom_state\u001b[0m\u001b[0;34m)\u001b[0m\u001b[0;34m\u001b[0m\u001b[0;34m\u001b[0m\u001b[0m\n",
            "\u001b[0;32m/usr/local/lib/python3.11/dist-packages/sklearn/cluster/_kmeans.py\u001b[0m in \u001b[0;36m_check_params_vs_input\u001b[0;34m(self, X)\u001b[0m\n\u001b[1;32m   1402\u001b[0m \u001b[0;34m\u001b[0m\u001b[0m\n\u001b[1;32m   1403\u001b[0m     \u001b[0;32mdef\u001b[0m \u001b[0m_check_params_vs_input\u001b[0m\u001b[0;34m(\u001b[0m\u001b[0mself\u001b[0m\u001b[0;34m,\u001b[0m \u001b[0mX\u001b[0m\u001b[0;34m)\u001b[0m\u001b[0;34m:\u001b[0m\u001b[0;34m\u001b[0m\u001b[0;34m\u001b[0m\u001b[0m\n\u001b[0;32m-> 1404\u001b[0;31m         \u001b[0msuper\u001b[0m\u001b[0;34m(\u001b[0m\u001b[0;34m)\u001b[0m\u001b[0;34m.\u001b[0m\u001b[0m_check_params_vs_input\u001b[0m\u001b[0;34m(\u001b[0m\u001b[0mX\u001b[0m\u001b[0;34m,\u001b[0m \u001b[0mdefault_n_init\u001b[0m\u001b[0;34m=\u001b[0m\u001b[0;36m10\u001b[0m\u001b[0;34m)\u001b[0m\u001b[0;34m\u001b[0m\u001b[0;34m\u001b[0m\u001b[0m\n\u001b[0m\u001b[1;32m   1405\u001b[0m \u001b[0;34m\u001b[0m\u001b[0m\n\u001b[1;32m   1406\u001b[0m         \u001b[0mself\u001b[0m\u001b[0;34m.\u001b[0m\u001b[0m_algorithm\u001b[0m \u001b[0;34m=\u001b[0m \u001b[0mself\u001b[0m\u001b[0;34m.\u001b[0m\u001b[0malgorithm\u001b[0m\u001b[0;34m\u001b[0m\u001b[0;34m\u001b[0m\u001b[0m\n",
            "\u001b[0;32m/usr/local/lib/python3.11/dist-packages/sklearn/cluster/_kmeans.py\u001b[0m in \u001b[0;36m_check_params_vs_input\u001b[0;34m(self, X, default_n_init)\u001b[0m\n\u001b[1;32m    869\u001b[0m         \u001b[0;31m# n_clusters\u001b[0m\u001b[0;34m\u001b[0m\u001b[0;34m\u001b[0m\u001b[0m\n\u001b[1;32m    870\u001b[0m         \u001b[0;32mif\u001b[0m \u001b[0mX\u001b[0m\u001b[0;34m.\u001b[0m\u001b[0mshape\u001b[0m\u001b[0;34m[\u001b[0m\u001b[0;36m0\u001b[0m\u001b[0;34m]\u001b[0m \u001b[0;34m<\u001b[0m \u001b[0mself\u001b[0m\u001b[0;34m.\u001b[0m\u001b[0mn_clusters\u001b[0m\u001b[0;34m:\u001b[0m\u001b[0;34m\u001b[0m\u001b[0;34m\u001b[0m\u001b[0m\n\u001b[0;32m--> 871\u001b[0;31m             raise ValueError(\n\u001b[0m\u001b[1;32m    872\u001b[0m                 \u001b[0;34mf\"n_samples={X.shape[0]} should be >= n_clusters={self.n_clusters}.\"\u001b[0m\u001b[0;34m\u001b[0m\u001b[0;34m\u001b[0m\u001b[0m\n\u001b[1;32m    873\u001b[0m             )\n",
            "\u001b[0;31mValueError\u001b[0m: n_samples=2 should be >= n_clusters=3."
          ]
        }
      ]
    },
    {
      "cell_type": "code",
      "source": [
        "import joblib\n",
        "for lang,model in models.items():\n",
        "    joblib.dump(model, f\"{lang}_kmeans_model.pkl\")\n"
      ],
      "metadata": {
        "id": "cbANZgOo99GG"
      },
      "execution_count": 49,
      "outputs": []
    },
    {
      "cell_type": "markdown",
      "source": [
        "\n",
        "\n",
        "---\n",
        "\n"
      ],
      "metadata": {
        "id": "5cDjIFXva4Wm"
      }
    },
    {
      "cell_type": "markdown",
      "source": [
        "<h3>Sources:\n",
        "\n",
        "\n",
        "1.   https://www.ibm.com/think/topics/k-means-clustering\n",
        "2.   List item\n",
        "3.\n",
        "\n"
      ],
      "metadata": {
        "id": "A1NRobNuErDY"
      }
    }
  ]
}